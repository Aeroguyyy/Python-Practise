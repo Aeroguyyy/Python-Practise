{
 "cells": [
  {
   "cell_type": "markdown",
   "metadata": {},
   "source": [
    "# 1. Program to declare and print a list"
   ]
  },
  {
   "cell_type": "code",
   "execution_count": 1,
   "metadata": {},
   "outputs": [
    {
     "name": "stdout",
     "output_type": "stream",
     "text": [
      "['akshay', 'bunny', 'gb', 'gorya']\n",
      "list 1 akshay\n",
      "list 2 bunny\n",
      "list 3 gb\n"
     ]
    }
   ],
   "source": [
    "list1 = ['akshay','bunny','gb','gorya']\n",
    "print(list1)\n",
    "print('list 1',list1[0])\n",
    "print('list 2',list1[1])\n",
    "print('list 3',list1[2])"
   ]
  },
  {
   "cell_type": "markdown",
   "metadata": {},
   "source": [
    "# 2. program to print list elements in different ways"
   ]
  },
  {
   "cell_type": "code",
   "execution_count": 2,
   "metadata": {},
   "outputs": [
    {
     "name": "stdout",
     "output_type": "stream",
     "text": [
      "['Amit', 'Abhi', 'Radib', 21, 22, 37] [100, 200, 'Hello', 'World']\n",
      "Amit World\n",
      "['Radib', 21]\n",
      "['Radib', 21, 22, 37]\n",
      "['Amit', 'Abhi', 'Radib', 21]\n",
      "['Amit', 'Abhi', 'Radib', 21, 22, 37, 'Amit', 'Abhi', 'Radib', 21, 22, 37, 'Amit', 'Abhi', 'Radib', 21, 22, 37]\n",
      "['Amit', 'Abhi', 'Radib', 21, 22, 37, 100, 200, 'Hello', 'World']\n"
     ]
    }
   ],
   "source": [
    "list1 = [\"Amit\", \"Abhi\", \"Radib\", 21, 22, 37]\n",
    "list2 = [100, 200, \"Hello\", \"World\"]\n",
    "print(list1,list2)\n",
    "print(list1[0],list2[3])\n",
    "print(list1[2:4])\n",
    "print(list1[2:])\n",
    "print(list1[:4])\n",
    "print(list1 * 3)\n",
    "print(list1 + list2)"
   ]
  },
  {
   "cell_type": "markdown",
   "metadata": {},
   "source": [
    "# 3. Program for Adding, removing elements in the list"
   ]
  },
  {
   "cell_type": "code",
   "execution_count": 3,
   "metadata": {},
   "outputs": [
    {
     "name": "stdout",
     "output_type": "stream",
     "text": [
      "['Amit', 'Abhi', 'Radib', 21, 22, 37]\n",
      "['Amit', 'Abhi', 'Radib', 21, 22, 37, 34, 'lapi', 340]\n",
      "['Amit', 'Abhi', 'Radib', 21, 22, 37, 34, 'lapi']\n"
     ]
    }
   ],
   "source": [
    "list1 = [\"Amit\", \"Abhi\", \"Radib\", 21, 22, 37]\n",
    "print(list1)\n",
    "list1.append(34)\n",
    "list1.append('lapi')\n",
    "list1.append(340)\n",
    "print(list1)\n",
    "list1.pop()\n",
    "print(list1)"
   ]
  },
  {
   "cell_type": "markdown",
   "metadata": {},
   "source": [
    "# 4. Program to print a list using ‘FOR and IN’ loop"
   ]
  },
  {
   "cell_type": "code",
   "execution_count": 4,
   "metadata": {},
   "outputs": [
    {
     "name": "stdout",
     "output_type": "stream",
     "text": [
      "34\n",
      "67\n",
      "89\n",
      "21\n",
      "22\n",
      "37\n",
      "addition: 270\n"
     ]
    }
   ],
   "source": [
    "list1 = [34,67,89, 21, 22, 37]\n",
    "for l in list1:\n",
    "    print(l)\n",
    "add = 0\n",
    "for s in list1:\n",
    "    add += s\n",
    "print('addition:',add)"
   ]
  },
  {
   "cell_type": "markdown",
   "metadata": {},
   "source": [
    "# 5. Program to add an element at specified index in a list"
   ]
  },
  {
   "cell_type": "code",
   "execution_count": 32,
   "metadata": {},
   "outputs": [
    {
     "name": "stdout",
     "output_type": "stream",
     "text": [
      "['Amit', 'Abhi', 'Radib', 21, 22, 37]\n",
      "['Amit', 'Abhi', 'Radib', 'laptop', 21, 'fan', 22, 37]\n"
     ]
    }
   ],
   "source": [
    "list1 = [\"Amit\", \"Abhi\", \"Radib\", 21, 22, 37]\n",
    "print(list1)\n",
    "list1.insert(3,'laptop')\n",
    "list1.insert(5,'fan')\n",
    "print(list1)"
   ]
  },
  {
   "cell_type": "markdown",
   "metadata": {},
   "source": [
    "# 6. Program to remove first occurrence of a given element in the list"
   ]
  },
  {
   "cell_type": "code",
   "execution_count": 35,
   "metadata": {},
   "outputs": [
    {
     "name": "stdout",
     "output_type": "stream",
     "text": [
      "['Amit', 'Abhi', 'Radib', 21, 22, 37]\n",
      "['Amit', 'Radib', 21, 22, 37]\n"
     ]
    }
   ],
   "source": [
    "list1 = [\"Amit\", \"Abhi\", \"Radib\", 21, 22, 37]\n",
    "print(list1)\n",
    "list1.remove('Abhi')\n",
    "print(list1)"
   ]
  },
  {
   "cell_type": "markdown",
   "metadata": {},
   "source": [
    "# 7. Remove all occurrences a given element from the list\n",
    "* Run a while loop from 0th element to last element's index.\n",
    "* Check the element whether it is equal to the number (which is to be removed) or not.\n",
    "* If any element of the list is equal to the number (which is to be removed), remove that element from the list.\n",
    "* To remove the number from the list, use list.remove() method.\n",
    "* After removing the number/element from the list, decrease the length, because one item is deleted, and then continue the loop to check the next item at same index (because after removing the element – next elements shifts to the previous index.\n",
    "* If element is not found (i.e. is not removed), then increase the loop counter to check next element."
   ]
  },
  {
   "cell_type": "code",
   "execution_count": 7,
   "metadata": {},
   "outputs": [
    {
     "name": "stdout",
     "output_type": "stream",
     "text": [
      "['Amit', 'Abhi', 'Radib', 21, 22, 37, 22, 67, 43, 22, 89, 22]\n",
      "['Amit', 'Abhi', 'Radib', 21, 37, 67, 43, 89]\n"
     ]
    }
   ],
   "source": [
    "list1 = [\"Amit\", \"Abhi\", \"Radib\", 21, 22, 37,22,67,43,22,89,22]\n",
    "print(list1)\n",
    "n = 22\n",
    "i = 0\n",
    "len_lst = len(list1)\n",
    "while(i < len_lst):\n",
    "    if(list1[i] == n):\n",
    "        list1.remove(list1[i])\n",
    "        len_lst = len_lst-1\n",
    "    else:\n",
    "        i = i+1\n",
    "print(list1)"
   ]
  },
  {
   "cell_type": "markdown",
   "metadata": {},
   "source": [
    "# 8. Program to remove all elements in a range from the List"
   ]
  },
  {
   "cell_type": "code",
   "execution_count": 4,
   "metadata": {},
   "outputs": [
    {
     "name": "stdout",
     "output_type": "stream",
     "text": [
      "[45, 23, 3, 56]\n"
     ]
    }
   ],
   "source": [
    "list1 = [45,23,67,45,3,56]\n",
    "del list1[2:4]\n",
    "print(list1)"
   ]
  },
  {
   "cell_type": "markdown",
   "metadata": {},
   "source": [
    "# 9. Program to sort the elements of given list in Ascending and Descending Order"
   ]
  },
  {
   "cell_type": "code",
   "execution_count": 7,
   "metadata": {},
   "outputs": [
    {
     "name": "stdout",
     "output_type": "stream",
     "text": [
      "[23, 67, 90, 434, 67, 34, 78, 35, 66, 78]\n",
      "Ascending:  [23, 34, 35, 66, 67, 67, 78, 78, 90, 434]\n",
      "Descending:  [434, 90, 78, 78, 67, 67, 66, 35, 34, 23]\n"
     ]
    }
   ],
   "source": [
    "list1 = [23,67,90,434,67,34,78,35,66,78]\n",
    "print(list1)\n",
    "list1.sort(reverse=False)\n",
    "print('Ascending: ',list1)\n",
    "list1.sort(reverse=True)\n",
    "print('Descending: ',list1 )"
   ]
  },
  {
   "cell_type": "markdown",
   "metadata": {},
   "source": [
    "# 10. Program to find the differences of two lists\n",
    "* we are using set() Method, in this way, we have to explicitly convert lists into sets and then subtract the set converted lists, the result will be the elements which are not exist in the second."
   ]
  },
  {
   "cell_type": "code",
   "execution_count": 1,
   "metadata": {},
   "outputs": [
    {
     "name": "stdout",
     "output_type": "stream",
     "text": [
      "[23, 56, 345, 78, 32, 45, 22, 44, 22, 44]\n",
      "[56, 34, 34, 89, 54, 22, 44, 22, 89, 56]\n",
      "Different Elements:  [32, 45, 78, 23, 345]\n"
     ]
    }
   ],
   "source": [
    "list1 = [23,56,345,78,32,45,22,44,22,44]\n",
    "list2 = [56,34,34,89,54,22,44,22,89,56,]\n",
    "print(list1)\n",
    "print(list2)\n",
    "print('Different Elements: ',list(set(list1) - set(list2)))"
   ]
  },
  {
   "cell_type": "markdown",
   "metadata": {},
   "source": [
    "# 11. Program to Print the index of first matched element of a list"
   ]
  },
  {
   "cell_type": "code",
   "execution_count": 3,
   "metadata": {},
   "outputs": [
    {
     "name": "stdout",
     "output_type": "stream",
     "text": [
      "Index of 1st matched element is  0\n",
      "Index of 1st matched element is  1\n",
      "Index of 1st matched element is  4\n"
     ]
    }
   ],
   "source": [
    "list1 = [23,56,345,78,32,45,22,44,22,44]\n",
    "print('Index of 1st matched element is ',list1.index(23))\n",
    "print('Index of 1st matched element is ',list1.index(56))\n",
    "print('Index of 1st matched element is ',list1.index(32))"
   ]
  },
  {
   "cell_type": "markdown",
   "metadata": {},
   "source": [
    "# 12. Program to find the position of minimum and maximum elements of a list"
   ]
  },
  {
   "cell_type": "code",
   "execution_count": 5,
   "metadata": {},
   "outputs": [
    {
     "name": "stdout",
     "output_type": "stream",
     "text": [
      "min element 6\n",
      "max element 2\n"
     ]
    }
   ],
   "source": [
    "list1 = [23,56,345,78,32,45,22,44,22,44]\n",
    "mins = list1.index(min(list1))\n",
    "print('min element',mins)\n",
    "print('max element',list1.index(max(list1)))"
   ]
  },
  {
   "cell_type": "code",
   "execution_count": 9,
   "metadata": {},
   "outputs": [
    {
     "name": "stdout",
     "output_type": "stream",
     "text": [
      "min element index: 6\n",
      "min element index: 2\n"
     ]
    }
   ],
   "source": [
    "import numpy as np\n",
    "list1 = [23,56,345,78,32,45,22,44,22,44]\n",
    "print('min element index:',np.argmin(list1))\n",
    "print('min element index:',np.argmax(list1))"
   ]
  },
  {
   "cell_type": "markdown",
   "metadata": {},
   "source": [
    "# 13. Program to input, append and print the list elements"
   ]
  },
  {
   "cell_type": "code",
   "execution_count": 14,
   "metadata": {},
   "outputs": [
    {
     "name": "stdout",
     "output_type": "stream",
     "text": [
      "Enter No. of Elements: 5\n",
      "enter element 12\n",
      "enter element 34\n",
      "enter element 56\n",
      "enter element 78\n",
      "enter element 90\n",
      "[12, 34, 56, 78, 90]\n",
      "12\n",
      "34\n",
      "56\n",
      "78\n",
      "90\n"
     ]
    }
   ],
   "source": [
    "list1 = []\n",
    "n = int(input('Enter No. of Elements: '))\n",
    "for i in range(n):\n",
    "    no = int(input('enter element '))\n",
    "    list1.append(no)\n",
    "print(list1)\n",
    "for j in range(n):\n",
    "    print(list1[j])"
   ]
  },
  {
   "cell_type": "markdown",
   "metadata": {},
   "source": [
    "# 14. Program to remove duplicate elements from the list"
   ]
  },
  {
   "cell_type": "code",
   "execution_count": 17,
   "metadata": {},
   "outputs": [
    {
     "name": "stdout",
     "output_type": "stream",
     "text": [
      "[23, 56, 345, 78, 32, 45, 22, 44, 22, 44]\n",
      "[23, 56, 345, 78, 32, 45, 22, 44]\n"
     ]
    }
   ],
   "source": [
    "# method 1\n",
    "list1 = [23,56,345,78,32,45,22,44,22,44]\n",
    "print(list1)\n",
    "list2 = []\n",
    "for n in list1:\n",
    "    if n not in list2:\n",
    "        list2.append(n)\n",
    "print(list2)"
   ]
  },
  {
   "cell_type": "code",
   "execution_count": 14,
   "metadata": {},
   "outputs": [
    {
     "name": "stdout",
     "output_type": "stream",
     "text": [
      "[23, 56, 345, 78, 32, 45, 22, 44, 22, 44]\n",
      "[100, 200, 'Hello', 'World']\n"
     ]
    }
   ],
   "source": [
    "#method 2 \n",
    "def dupli(list1):\n",
    "    list2 = []\n",
    "    for n in list1:\n",
    "        if n not in list2:\n",
    "            list2.append(n)\n",
    "    return list2\n",
    "\n",
    "list1 = [23,56,345,78,32,45,22,44,22,44]\n",
    "print(list1)\n",
    "print(list2)"
   ]
  },
  {
   "cell_type": "markdown",
   "metadata": {},
   "source": [
    "# 15. Program to Create two lists with EVEN numbers and ODD numbers from a list"
   ]
  },
  {
   "cell_type": "code",
   "execution_count": 20,
   "metadata": {},
   "outputs": [
    {
     "name": "stdout",
     "output_type": "stream",
     "text": [
      "[23, 56, 345, 78, 32, 45, 22, 44, 22, 44]\n",
      "even numbers:  [56, 78, 32, 22, 44, 22, 44]\n",
      "odd numbers:  [23, 345, 45]\n"
     ]
    }
   ],
   "source": [
    "list1 = [23,56,345,78,32,45,22,44,22,44]\n",
    "print(list1)\n",
    "list_even = []\n",
    "list_odd = []\n",
    "for i in list1:\n",
    "    if i%2==0:\n",
    "        list_even.append(i)\n",
    "    else:\n",
    "        list_odd.append(i)\n",
    "print('even numbers: ',list_even)\n",
    "print('odd numbers: ',list_odd)"
   ]
  },
  {
   "cell_type": "markdown",
   "metadata": {},
   "source": [
    "# 16. Program to print all numbers which are divisible by M and N in the List"
   ]
  },
  {
   "cell_type": "code",
   "execution_count": 15,
   "metadata": {},
   "outputs": [
    {
     "name": "stdout",
     "output_type": "stream",
     "text": [
      "[23, 56, 345, 78, 32, 45, 22, 44, 22, 47]\n",
      "78\n"
     ]
    }
   ],
   "source": [
    "list1 = [23,56,345,78,32,45,22,44,22,47]\n",
    "print(list1)\n",
    "m = 2\n",
    "n = 3\n",
    "for i in list1:\n",
    "    if (i%m==0) and (i%n==0):\n",
    "        print(i)"
   ]
  },
  {
   "cell_type": "markdown",
   "metadata": {},
   "source": [
    "# 17. Create a list from the specified start to end index of another list"
   ]
  },
  {
   "cell_type": "code",
   "execution_count": 19,
   "metadata": {},
   "outputs": [
    {
     "name": "stdout",
     "output_type": "stream",
     "text": [
      "[345, 78, 32, 45]\n"
     ]
    }
   ],
   "source": [
    "list1 = [23,56,345,78,32,45,22,44,22,47]\n",
    "start = 2\n",
    "end = 6\n",
    "print(list1[start:end])"
   ]
  },
  {
   "cell_type": "code",
   "execution_count": 20,
   "metadata": {},
   "outputs": [
    {
     "name": "stdout",
     "output_type": "stream",
     "text": [
      "[23, 56, 345, 78, 32, 45, 22, 44, 22, 47]\n",
      "[345, 78, 32, 45, 22]\n"
     ]
    }
   ],
   "source": [
    "list1 = [23,56,345,78,32,45,22,44,22,47]\n",
    "print(list1)\n",
    "starts = 2\n",
    "ends = 6\n",
    "if (starts | ends < 0) or (starts | ends > len(list1)-1):\n",
    "    print('invalid start or end index')\n",
    "else:\n",
    "    print(list1[starts:ends+1])"
   ]
  },
  {
   "cell_type": "markdown",
   "metadata": {},
   "source": [
    "# 18. Create three lists of numbers, their squares and cubes"
   ]
  },
  {
   "cell_type": "code",
   "execution_count": 21,
   "metadata": {},
   "outputs": [
    {
     "name": "stdout",
     "output_type": "stream",
     "text": [
      "numbers: [1, 2, 3, 4, 5, 6, 7, 8, 9, 10]\n",
      "squares: [1, 4, 9, 16, 25, 36, 49, 64, 81, 100]\n",
      "cubes: [1, 8, 27, 64, 125, 216, 343, 512, 729, 1000]\n"
     ]
    }
   ],
   "source": [
    "numbers = []\n",
    "squares = []\n",
    "cubes = []\n",
    "start = 1\n",
    "end = 10\n",
    "for c in range(start,end+1):\n",
    "    numbers.append(c)\n",
    "    squares.append(c**2)\n",
    "    cubes.append(c**3)\n",
    "print('numbers:',numbers)\n",
    "print('squares:',squares)\n",
    "print('cubes:',cubes)\n",
    "    "
   ]
  },
  {
   "cell_type": "code",
   "execution_count": 72,
   "metadata": {},
   "outputs": [
    {
     "name": "stdout",
     "output_type": "stream",
     "text": [
      "numbers: [1, 2, 3, 4, 5, 6, 7, 8, 9, 10]\n",
      "squares: [1, 4, 9, 16, 25, 36, 49, 64, 81, 100]\n",
      "cubes: [1, 8, 27, 64, 125, 216, 343, 512, 729, 1000]\n"
     ]
    }
   ],
   "source": [
    "def calci1(starts,ends):\n",
    "    numbers = []\n",
    "    for c in range(starts, ends+1):\n",
    "        numbers.append(c)\n",
    "    return numbers\n",
    "\n",
    "def calci2(starts,ends):\n",
    "    squares = []\n",
    "    for c in range(starts, ends+1):\n",
    "        squares.append(c**2)\n",
    "    return squares\n",
    "\n",
    "def calci3(starts,ends):\n",
    "    cubes = []\n",
    "    for c in range(starts, ends+1):\n",
    "        cubes.append(c**3)\n",
    "    return cubes\n",
    "\n",
    "numbers = []\n",
    "squares = []\n",
    "cubes = []\n",
    "starts = 1\n",
    "ends = 10\n",
    "numbers = calci1(starts,ends)\n",
    "squares = calci2(starts,ends)\n",
    "cubes = calci3(starts,ends)\n",
    "print('numbers:',numbers)\n",
    "print('squares:',squares)\n",
    "print('cubes:',cubes)"
   ]
  },
  {
   "cell_type": "markdown",
   "metadata": {},
   "source": [
    "# 19. Create two lists with first half and second half elements of a list"
   ]
  },
  {
   "cell_type": "code",
   "execution_count": 4,
   "metadata": {},
   "outputs": [
    {
     "name": "stdout",
     "output_type": "stream",
     "text": [
      "[23, 56, 78, 43, 56, 89, 43, 67, 78]\n",
      "[23, 56, 78, 43]\n",
      "[56, 89, 43, 67, 78]\n"
     ]
    }
   ],
   "source": [
    "# method 1\n",
    "list1 = [23,56,78,43,56,89,43,67,78]\n",
    "list2 = list1[:4]\n",
    "list3 = list1[4:]\n",
    "print(list1)\n",
    "print(list2)\n",
    "print(list3)"
   ]
  },
  {
   "cell_type": "code",
   "execution_count": 5,
   "metadata": {},
   "outputs": [
    {
     "name": "stdout",
     "output_type": "stream",
     "text": [
      "[23, 56, 78, 43, 56, 89, 43, 67, 78]\n",
      "[23, 56, 78, 43]\n",
      "[56, 89, 43, 67, 78]\n"
     ]
    }
   ],
   "source": [
    "# method 2\n",
    "list1 = [23,56,78,43,56,89,43,67,78]\n",
    "print(list1)\n",
    "print(list1[0:4])\n",
    "print(list1[4:9])"
   ]
  },
  {
   "cell_type": "code",
   "execution_count": 3,
   "metadata": {},
   "outputs": [
    {
     "ename": "TypeError",
     "evalue": "'int' object is not subscriptable",
     "output_type": "error",
     "traceback": [
      "\u001b[1;31m---------------------------------------------------------------------------\u001b[0m",
      "\u001b[1;31mTypeError\u001b[0m                                 Traceback (most recent call last)",
      "\u001b[1;32m<ipython-input-3-45d18b79e52a>\u001b[0m in \u001b[0;36m<module>\u001b[1;34m\u001b[0m\n\u001b[0;32m      8\u001b[0m         \u001b[0mexit\u001b[0m\u001b[1;33m(\u001b[0m\u001b[1;33m)\u001b[0m\u001b[1;33m\u001b[0m\u001b[1;33m\u001b[0m\u001b[0m\n\u001b[0;32m      9\u001b[0m     \u001b[1;32melse\u001b[0m\u001b[1;33m:\u001b[0m\u001b[1;33m\u001b[0m\u001b[1;33m\u001b[0m\u001b[0m\n\u001b[1;32m---> 10\u001b[1;33m         \u001b[0mlist22\u001b[0m \u001b[1;33m=\u001b[0m \u001b[0mx\u001b[0m\u001b[1;33m[\u001b[0m\u001b[1;33m:\u001b[0m\u001b[0mn\u001b[0m\u001b[1;33m/\u001b[0m\u001b[1;36m2\u001b[0m\u001b[1;33m]\u001b[0m\u001b[1;33m\u001b[0m\u001b[1;33m\u001b[0m\u001b[0m\n\u001b[0m\u001b[0;32m     11\u001b[0m         \u001b[0mlist33\u001b[0m \u001b[1;33m=\u001b[0m \u001b[0mx\u001b[0m\u001b[1;33m[\u001b[0m\u001b[0mn\u001b[0m\u001b[1;33m/\u001b[0m\u001b[1;36m2\u001b[0m\u001b[1;33m:\u001b[0m\u001b[0mn\u001b[0m\u001b[1;33m]\u001b[0m\u001b[1;33m\u001b[0m\u001b[1;33m\u001b[0m\u001b[0m\n\u001b[0;32m     12\u001b[0m \u001b[1;33m\u001b[0m\u001b[0m\n",
      "\u001b[1;31mTypeError\u001b[0m: 'int' object is not subscriptable"
     ]
    }
   ],
   "source": [
    "# method 3\n",
    "list1 = [23,56,78,43,56,89,8,67,78,9]\n",
    "list22 = []\n",
    "list33 = []\n",
    "n = len(list1)\n",
    "for x in list1:\n",
    "    if n%2!=0:\n",
    "        exit()\n",
    "    else:\n",
    "        list22 = x[:n/2]\n",
    "        list33 = x[n/2:n]\n",
    "    \n",
    "print(list1)\n",
    "print(list22)\n",
    "print(list33)"
   ]
  },
  {
   "cell_type": "markdown",
   "metadata": {},
   "source": [
    "# 20. Iterate a list in reverse order"
   ]
  },
  {
   "cell_type": "code",
   "execution_count": 1,
   "metadata": {},
   "outputs": [
    {
     "name": "stdout",
     "output_type": "stream",
     "text": [
      "[23, 56, 78, 43, 56, 89, 43, 67, 78]\n",
      "Reverse Order:  [78, 67, 43, 89, 56, 43, 78, 56, 23]\n"
     ]
    }
   ],
   "source": [
    "list1 = [23,56,78,43,56,89,43,67,78]\n",
    "print(list1)\n",
    "print('Reverse Order: ',list1[::-1])"
   ]
  },
  {
   "cell_type": "code",
   "execution_count": 8,
   "metadata": {},
   "outputs": [
    {
     "name": "stdout",
     "output_type": "stream",
     "text": [
      "2 3 4 5 6 7\n",
      "['7', '6', '5', '4', '3', '2']\n"
     ]
    }
   ],
   "source": [
    "print(input().split()[::-1])"
   ]
  },
  {
   "cell_type": "markdown",
   "metadata": {},
   "source": [
    "# 21. print list after removing EVEN numbers"
   ]
  },
  {
   "cell_type": "code",
   "execution_count": 11,
   "metadata": {},
   "outputs": [
    {
     "name": "stdout",
     "output_type": "stream",
     "text": [
      "Original List:  [23, 56, 78, 43, 56, 89, 43, 67, 78, 22, 23]\n",
      "only odd numbers [23, 43, 89, 43, 67, 78, 22, 23]\n"
     ]
    }
   ],
   "source": [
    "list2 = [23,56,78,43,56,89,43,67,78,22,23]\n",
    "print('Original List: ',list2)\n",
    "for l in list2:\n",
    "    if (l%2 == 0):\n",
    "        list2.remove(l)\n",
    "\n",
    "print('only odd numbers',list2)"
   ]
  },
  {
   "cell_type": "markdown",
   "metadata": {},
   "source": [
    "# 22. print list after removing ODD numbers"
   ]
  },
  {
   "cell_type": "code",
   "execution_count": 15,
   "metadata": {},
   "outputs": [
    {
     "name": "stdout",
     "output_type": "stream",
     "text": [
      "Original List:  [23, 56, 78, 43, 56, 89, 43, 67, 78, 22, 23]\n",
      "only even numbers [56, 78, 56, 43, 78, 22]\n"
     ]
    }
   ],
   "source": [
    "list2 = [23,56,78,43,56,89,43,67,78,22,23]\n",
    "print('Original List: ',list2)\n",
    "for l in list2:\n",
    "    if (l%2 != 0):\n",
    "        list2.remove(l)\n",
    "\n",
    "print('only even numbers',list2)"
   ]
  },
  {
   "cell_type": "markdown",
   "metadata": {},
   "source": [
    "# 23. Input comma separated elements, convert into list and print"
   ]
  },
  {
   "cell_type": "code",
   "execution_count": 4,
   "metadata": {},
   "outputs": [
    {
     "name": "stdout",
     "output_type": "stream",
     "text": [
      "enter comma separated integers:12,56,43,23,78,76,89\n",
      "string:  12,56,43,23,78,76,89\n",
      "splitted string:  ['12', '56', '43', '23', '78', '76', '89']\n",
      "integers:  [12, 56, 43, 23, 78, 76, 89]\n"
     ]
    }
   ],
   "source": [
    "string1 = str(input('enter comma separated integers:'))\n",
    "print('string: ',string1)\n",
    "list1 = string1.split(',')\n",
    "print('splitted string: ',list1)\n",
    "list2 = []\n",
    "for i in list1:\n",
    "    list2.append(int(i))\n",
    "print('integers: ',list2)"
   ]
  },
  {
   "cell_type": "markdown",
   "metadata": {},
   "source": [
    "# 24. Convert a string to integers list"
   ]
  },
  {
   "cell_type": "code",
   "execution_count": 7,
   "metadata": {},
   "outputs": [
    {
     "name": "stdout",
     "output_type": "stream",
     "text": [
      "120\n",
      "108\n"
     ]
    }
   ],
   "source": [
    "# method 1\n",
    "print(int('120'))\n",
    "print(int('108'))"
   ]
  },
  {
   "cell_type": "code",
   "execution_count": 13,
   "metadata": {},
   "outputs": [
    {
     "name": "stdout",
     "output_type": "stream",
     "text": [
      "12345678 <class 'str'>\n",
      "list:  [1, 2, 3, 4, 5, 6, 7, 8] <class 'list'>\n"
     ]
    }
   ],
   "source": [
    "# method 2\n",
    "str1 = '12345678'\n",
    "print(str1,type(str1))\n",
    "list1 = []\n",
    "for i in str1:\n",
    "    list1.append(int(i))\n",
    "print('list: ',list1,type(list1))"
   ]
  },
  {
   "cell_type": "markdown",
   "metadata": {},
   "source": [
    "# 25. Using List as Stack in Python"
   ]
  },
  {
   "cell_type": "code",
   "execution_count": 15,
   "metadata": {},
   "outputs": [
    {
     "name": "stdout",
     "output_type": "stream",
     "text": [
      "stack:  [23, 78, 43, 56, 21]\n",
      "after appending:  [23, 78, 43, 56, 21, 90, 108, 19]\n",
      "after poping  [23, 78, 43, 56, 21, 90, 108]\n"
     ]
    }
   ],
   "source": [
    "stack = [23,78,43,56,21]\n",
    "print('stack: ',stack)\n",
    "stack.append(90)\n",
    "stack.append(108)\n",
    "stack.append(19)\n",
    "print('after appending: ',stack)\n",
    "stack.pop()\n",
    "print('after poping ',stack)"
   ]
  },
  {
   "cell_type": "markdown",
   "metadata": {},
   "source": [
    "# 26. Extend a list using + Operator"
   ]
  },
  {
   "cell_type": "code",
   "execution_count": 16,
   "metadata": {},
   "outputs": [
    {
     "name": "stdout",
     "output_type": "stream",
     "text": [
      "[34, 56, 21, 45]\n",
      "[34, 56, 21, 45, 90, 55, 56]\n"
     ]
    }
   ],
   "source": [
    "list1 = [34,56,21,45]\n",
    "print(list1)\n",
    "list1 += [90]\n",
    "list1 += [55,56]\n",
    "print(list1)"
   ]
  },
  {
   "cell_type": "markdown",
   "metadata": {},
   "source": [
    "# 27. program to find N largest and smallest elements from the list"
   ]
  },
  {
   "cell_type": "code",
   "execution_count": 19,
   "metadata": {},
   "outputs": [
    {
     "name": "stdout",
     "output_type": "stream",
     "text": [
      "[1, 8, 2, 23, 7, -4, 18, 23, 42, 37, 2]\n",
      "largest elements:  [42, 37, 23]\n",
      "smallest elements:  [-4, 1, 2]\n"
     ]
    }
   ],
   "source": [
    "# method 1 - By the inbuilt module heapq module\n",
    "import heapq\n",
    "nums = [1, 8, 2, 23, 7, -4, 18, 23, 42, 37, 2]\n",
    "print(nums)\n",
    "print('largest elements: ',heapq.nlargest(3,nums))\n",
    "print('smallest elements: ',heapq.nsmallest(3,nums))"
   ]
  },
  {
   "cell_type": "code",
   "execution_count": 28,
   "metadata": {},
   "outputs": [
    {
     "name": "stdout",
     "output_type": "stream",
     "text": [
      "smallest elements:  [-4, 1, 2]\n",
      "largest elements:  [42, 37, 23]\n"
     ]
    }
   ],
   "source": [
    "# method 2 - by defining function\n",
    "def elements1(list1,n):\n",
    "    smallest = []\n",
    "    for i in range(n):\n",
    "        smallest.append(min(list1))\n",
    "        list1.remove(min(list1))\n",
    "    print('smallest elements: ',smallest)\n",
    "    \n",
    "def elements2(list1,n):\n",
    "    largest = []\n",
    "    for i in range(n):\n",
    "        largest.append(max(list1))\n",
    "        list1.remove(max(list1))\n",
    "    print('largest elements: ',largest)\n",
    "    \n",
    "list1 = [1, 8, 2, 23, 7, -4, 18, 23, 42, 37, 2]\n",
    "n = 3\n",
    "elements1(list1,n)\n",
    "elements2(list1,n)"
   ]
  },
  {
   "cell_type": "markdown",
   "metadata": {},
   "source": [
    "# 28. program for various list operations"
   ]
  },
  {
   "cell_type": "code",
   "execution_count": 50,
   "metadata": {},
   "outputs": [
    {
     "name": "stdout",
     "output_type": "stream",
     "text": [
      "[1, 8, 2, 23, 7, -4, 18, 23, 42, 37, 2]\n",
      "1\n",
      "-4\n",
      "[23, 7, -4, 18]\n",
      "42\n",
      "[1, 8, 2, 23, 7, -4, 18, 23, 42, 37, 2, 90]\n",
      "6\n",
      "[-4, 1, 2, 2, 7, 8, 18, 23, 23, 37, 42, 90]\n",
      "[-4, 1, 2, 2, 7, 8, 18, 23, 23, 37, 42]\n",
      "[-4, 1, 2, 2, 8, 18, 23, 23, 37, 42]\n",
      "[-4, 1, 2, 2, 8, 10, 18, 23, 23, 37, 42]\n",
      "[-4, 1, 2, 2, 8, 10, 18, 23, 23, 37, 42, 11, 22, 33]\n",
      "[33, 22, 11, 42, 37, 23, 23, 18, 10, 8, 2, 2, 1, -4]\n"
     ]
    }
   ],
   "source": [
    "list1 = [1, 8, 2, 23, 7, -4, 18, 23, 42, 37, 2]\n",
    "print(list1)\n",
    "print(list1[0])\n",
    "print(list1[5])\n",
    "print(list1[3:7])\n",
    "print(list1[-3])\n",
    "list1.append(90)\n",
    "print(list1)\n",
    "print(list1.index(18))\n",
    "list1.sort()\n",
    "print(list1)\n",
    "list1.pop()\n",
    "print(list1)\n",
    "list1.remove(list1[4])\n",
    "print(list1)\n",
    "list1.insert(5,10)\n",
    "print(list1)\n",
    "list1.extend([11,22,33])\n",
    "print(list1)\n",
    "print(list1[::-1])"
   ]
  },
  {
   "cell_type": "markdown",
   "metadata": {},
   "source": [
    "# 29. Find the index of an item given a list"
   ]
  },
  {
   "cell_type": "code",
   "execution_count": 51,
   "metadata": {},
   "outputs": [
    {
     "name": "stdout",
     "output_type": "stream",
     "text": [
      "[1, 8, 2, 23, 7, -4, 18, 23, 42, 37, 2]\n",
      "index: 3\n"
     ]
    }
   ],
   "source": [
    "list1 = [1, 8, 2, 23, 7, -4, 18, 23, 42, 37, 2]\n",
    "print(list1)\n",
    "print('index:',list1.index(23))"
   ]
  },
  {
   "cell_type": "markdown",
   "metadata": {},
   "source": [
    "# 30. Extract Even and odd number from a given list"
   ]
  },
  {
   "cell_type": "code",
   "execution_count": 2,
   "metadata": {},
   "outputs": [
    {
     "name": "stdout",
     "output_type": "stream",
     "text": [
      "enter number: 46\n",
      "46 is even\n"
     ]
    }
   ],
   "source": [
    "# method 1\n",
    "n = int(input('enter number: '))\n",
    "if (n%2==0):\n",
    "    print('{} is even'.format(n))\n",
    "else:\n",
    "    print('{} is odd number'.format(n))"
   ]
  },
  {
   "cell_type": "code",
   "execution_count": 4,
   "metadata": {},
   "outputs": [
    {
     "name": "stdout",
     "output_type": "stream",
     "text": [
      "enter elements: 12 56 43 87 56\n",
      "even numbers:  [12, 56, 56]\n",
      "odd numbers:  [43, 87]\n"
     ]
    }
   ],
   "source": [
    "# method 2\n",
    "a = list(map(int,input('enter elements: ').split()))\n",
    "b = []\n",
    "c = []\n",
    "for i in a:\n",
    "    if i%2==0:\n",
    "        b.append(i)\n",
    "    else:\n",
    "        c.append(i)\n",
    "print('even numbers: ',b)\n",
    "print('odd numbers: ',c)"
   ]
  },
  {
   "cell_type": "markdown",
   "metadata": {},
   "source": [
    "# 31. Remove falsy values from a list"
   ]
  },
  {
   "cell_type": "code",
   "execution_count": 8,
   "metadata": {},
   "outputs": [
    {
     "name": "stdout",
     "output_type": "stream",
     "text": [
      "[1, 'a', 0, False, True, '0']\n",
      "<filter object at 0x000001C594B5DEE0>\n"
     ]
    }
   ],
   "source": [
    "list1 = [1, 'a', 0, False, True, '0']\n",
    "print(list1)\n",
    "list2 = filter(None,list1)\n",
    "print(list2)"
   ]
  },
  {
   "cell_type": "markdown",
   "metadata": {},
   "source": [
    "# 32. program to remove multiple elements from a list using list comprehension"
   ]
  },
  {
   "cell_type": "code",
   "execution_count": 18,
   "metadata": {},
   "outputs": [
    {
     "name": "stdout",
     "output_type": "stream",
     "text": [
      "list1:  [80, 2, 23, 7, 83, 18, 23, 42, 37, 2]\n",
      "indices:  [80, 18, 42]\n",
      "[80, 2, 23, 7, 83, 18, 23, 42, 37, 2]\n"
     ]
    }
   ],
   "source": [
    "list1 = [80, 2, 23, 7, 83, 18, 23, 42, 37, 2]\n",
    "indices = [80,18,42]\n",
    "print('list1: ',list1)\n",
    "print('indices: ',indices)\n",
    "list1 = [i for j, i in enumerate(list1) if j not in indices]\n",
    "print(list1)"
   ]
  },
  {
   "cell_type": "markdown",
   "metadata": {},
   "source": [
    "# 33. Check all elements of a list are the same or not"
   ]
  },
  {
   "cell_type": "code",
   "execution_count": 21,
   "metadata": {},
   "outputs": [
    {
     "name": "stdout",
     "output_type": "stream",
     "text": [
      "[10, 10, 10, 10, 10]\n",
      "elements of a list are same\n"
     ]
    }
   ],
   "source": [
    "list1 = [10,10,10,10,10]\n",
    "print(list1)\n",
    "if list1[1:] == list1[:-1]:\n",
    "    print('elements of a list are same')\n",
    "else:\n",
    "    print('elements are not same')"
   ]
  },
  {
   "cell_type": "markdown",
   "metadata": {},
   "source": [
    "# 34. Check all elements are unique or not"
   ]
  },
  {
   "cell_type": "code",
   "execution_count": 22,
   "metadata": {},
   "outputs": [
    {
     "name": "stdout",
     "output_type": "stream",
     "text": [
      "[80, 2, 23, 7, 83, 18, 23, 42, 37, 2]\n",
      "elements are not unique\n"
     ]
    }
   ],
   "source": [
    "list1 = [80, 2, 23, 7, 83, 18, 23, 42, 37, 2]\n",
    "print(list1)\n",
    "if len(list1)==len(set(list1)):\n",
    "    print('all elements are unique')\n",
    "else:\n",
    "    print('elements are not unique')"
   ]
  },
  {
   "cell_type": "markdown",
   "metadata": {},
   "source": [
    "# 35. program to print positive or negative numbers in a list"
   ]
  },
  {
   "cell_type": "code",
   "execution_count": 34,
   "metadata": {},
   "outputs": [
    {
     "name": "stdout",
     "output_type": "stream",
     "text": [
      "enter elements:34 67 43 -98 -23 76 -8\n",
      "[34, 67, 43, -98, -23, 76, -8]\n",
      "positive numbers:  34\n",
      "positive numbers:  67\n",
      "positive numbers:  43\n",
      "positive numbers:  76\n"
     ]
    }
   ],
   "source": [
    "# method 1 - using loop\n",
    "elements = list(map(int,input('enter elements:').split()))\n",
    "print(elements)\n",
    "positive = []\n",
    "for i in elements:\n",
    "    if i >=0:\n",
    "        print('positive numbers: ',i)"
   ]
  },
  {
   "cell_type": "code",
   "execution_count": 1,
   "metadata": {},
   "outputs": [
    {
     "name": "stdout",
     "output_type": "stream",
     "text": [
      "enter elements:34 67 43 -98 -23 76 -8\n",
      "positive numbers:  [34, 67, 43, 76]\n"
     ]
    }
   ],
   "source": [
    "# method 2 - using lambda expression\n",
    "elements = list(map(int,input('enter elements:').split()))\n",
    "positive = list(filter(lambda i: (i>=0),elements))\n",
    "print('positive numbers: ',positive)"
   ]
  },
  {
   "cell_type": "code",
   "execution_count": 2,
   "metadata": {},
   "outputs": [
    {
     "name": "stdout",
     "output_type": "stream",
     "text": [
      "enter elements:34 67 43 -98 -23 76 -8\n",
      "positive numbers:  [34, 67, 43, 76]\n"
     ]
    }
   ],
   "source": [
    "elements = list(map(int,input('enter elements:').split()))\n",
    "print('positive numbers: ',list(filter(lambda i: (i>=0),elements)))"
   ]
  },
  {
   "cell_type": "markdown",
   "metadata": {},
   "source": [
    "# 36. program to extract keywords from the list"
   ]
  },
  {
   "cell_type": "code",
   "execution_count": 8,
   "metadata": {},
   "outputs": [
    {
     "name": "stdout",
     "output_type": "stream",
     "text": [
      "['python in function', 'is used to get filtered elements', ' this function list two arguments']\n",
      "keywords:  ['in', 'is']\n"
     ]
    }
   ],
   "source": [
    "from keyword import iskeyword\n",
    "list1 = ['python in function','is used to get filtered elements',' this function list two arguments']\n",
    "print(list1)\n",
    "key = []\n",
    "for sentence in list1:\n",
    "    for words in sentence.split():\n",
    "        if iskeyword(words):\n",
    "            key.append(words)\n",
    "print('keywords: ',key)"
   ]
  },
  {
   "cell_type": "markdown",
   "metadata": {},
   "source": [
    "# 37. program to remove empty list from a list of lists"
   ]
  },
  {
   "cell_type": "code",
   "execution_count": 15,
   "metadata": {},
   "outputs": [
    {
     "name": "stdout",
     "output_type": "stream",
     "text": [
      "[[5], [54, 545, 9], [], [1, 4, 7], [], [8, 2, 5]]\n",
      "[[5], [54, 545, 9], [1, 4, 7], [8, 2, 5]]\n"
     ]
    }
   ],
   "source": [
    "# method 1 -\n",
    "empty_list = [[5], [54, 545,9], [], [1, 4, 7], [], [8, 2, 5] ]\n",
    "print(empty_list)\n",
    "non_empty = [l for l in empty_list if l != []]\n",
    "print(non_empty)"
   ]
  },
  {
   "cell_type": "code",
   "execution_count": 17,
   "metadata": {},
   "outputs": [
    {
     "name": "stdout",
     "output_type": "stream",
     "text": [
      "[[5], [54, 545, 9], [], [1, 4, 7], [], [8, 2, 5]]\n",
      "[[5], [54, 545, 9], [1, 4, 7], [8, 2, 5]]\n"
     ]
    }
   ],
   "source": [
    "# method 2 - using filter() method\n",
    "empty_list = [[5], [54, 545,9], [], [1, 4, 7], [], [8, 2, 5] ]\n",
    "print(empty_list)\n",
    "non_empty = list(filter(None,empty_list))\n",
    "print(non_empty)"
   ]
  },
  {
   "cell_type": "markdown",
   "metadata": {},
   "source": [
    "# 38. program to multiply all numbers of a list"
   ]
  },
  {
   "cell_type": "code",
   "execution_count": 25,
   "metadata": {},
   "outputs": [
    {
     "name": "stdout",
     "output_type": "stream",
     "text": [
      "enter numbers: 2 6 9 3 5\n",
      "[2, 6, 9, 3, 5]\n",
      "product:  1620\n"
     ]
    }
   ],
   "source": [
    "# method 1 - using loops\n",
    "number = list(map(int,input('enter numbers: ').split()))\n",
    "print(number)\n",
    "prod = 1\n",
    "for i in number:\n",
    "    prod  *= i\n",
    "print('product: ',prod)"
   ]
  },
  {
   "cell_type": "code",
   "execution_count": 28,
   "metadata": {},
   "outputs": [
    {
     "name": "stdout",
     "output_type": "stream",
     "text": [
      "enter numbers: 2 6 9 3 5\n",
      "[2, 6, 9, 3, 5]\n",
      "product:  1620\n"
     ]
    }
   ],
   "source": [
    "# method 2 - using prod() method from math library\n",
    "import math\n",
    "number = list(map(int,input('enter numbers: ').split()))\n",
    "print(number)\n",
    "print('product: ',math.prod(number))"
   ]
  },
  {
   "cell_type": "code",
   "execution_count": 2,
   "metadata": {},
   "outputs": [
    {
     "name": "stdout",
     "output_type": "stream",
     "text": [
      "enter numbers: 2 6 9 3 5\n",
      "[2, 6, 9, 3, 5]\n",
      "product:  1620\n"
     ]
    }
   ],
   "source": [
    "# method 3 - using numpys prod() method\n",
    "import numpy as np\n",
    "number = list(map(int,input('enter numbers: ').split()))\n",
    "print(number)\n",
    "print('product: ',np.prod(number))"
   ]
  },
  {
   "cell_type": "markdown",
   "metadata": {},
   "source": [
    "# 39. How to find the length of a list"
   ]
  },
  {
   "cell_type": "code",
   "execution_count": 7,
   "metadata": {},
   "outputs": [
    {
     "name": "stdout",
     "output_type": "stream",
     "text": [
      "enter numbers: 3 5 7 4 5\n",
      "length:  5\n"
     ]
    }
   ],
   "source": [
    "# method 1 - using loops\n",
    "number = list(map(int,input('enter numbers: ').split()))\n",
    "count = 0\n",
    "for i in number:\n",
    "    count += 1\n",
    "print('length: ',count)"
   ]
  },
  {
   "cell_type": "code",
   "execution_count": 5,
   "metadata": {},
   "outputs": [
    {
     "name": "stdout",
     "output_type": "stream",
     "text": [
      "enter numbers: 2 4 6 8 4 6\n",
      "length:  6\n"
     ]
    }
   ],
   "source": [
    "# method 2- using len() function\n",
    "number = list(map(int,input('enter numbers: ').split()))\n",
    "print('length: ',len(number))"
   ]
  },
  {
   "cell_type": "code",
   "execution_count": 6,
   "metadata": {},
   "outputs": [
    {
     "name": "stdout",
     "output_type": "stream",
     "text": [
      "enter numbers: 2 4 6 7 4 8\n",
      "length:  6\n"
     ]
    }
   ],
   "source": [
    "# method 3 - using length_hint() method \n",
    "import operator\n",
    "number = list(map(int,input('enter numbers: ').split()))\n",
    "print('length: ',operator.length_hint(number))"
   ]
  },
  {
   "cell_type": "markdown",
   "metadata": {},
   "source": [
    "# 40. program to check if an element is present in list"
   ]
  },
  {
   "cell_type": "code",
   "execution_count": 9,
   "metadata": {},
   "outputs": [
    {
     "name": "stdout",
     "output_type": "stream",
     "text": [
      "enter numbers: 1 3 4 5 6 7\n",
      "enter element to search: 6\n",
      "number is present\n"
     ]
    }
   ],
   "source": [
    "# method 1 - using for loop\n",
    "number = list(map(int,input('enter numbers: ').split()))\n",
    "search = int(input('enter element to search: '))\n",
    "found = False\n",
    "for i in number:\n",
    "    if i == search:\n",
    "        found = True\n",
    "        \n",
    "if (found == True):\n",
    "        print('number is present')\n",
    "else:\n",
    "        print('number is not present')"
   ]
  },
  {
   "cell_type": "code",
   "execution_count": 10,
   "metadata": {},
   "outputs": [
    {
     "name": "stdout",
     "output_type": "stream",
     "text": [
      "enter numbers: 1 3 4 5 6 7\n",
      "enter element to search: 5\n",
      "number is present\n"
     ]
    }
   ],
   "source": [
    "# method 2 - using in operator\n",
    "number = list(map(int,input('enter numbers: ').split()))\n",
    "search = int(input('enter element to search: '))\n",
    "if search in number:\n",
    "    print('number is present')\n",
    "else:\n",
    "    print('number is not present')"
   ]
  },
  {
   "cell_type": "code",
   "execution_count": 14,
   "metadata": {},
   "outputs": [
    {
     "name": "stdout",
     "output_type": "stream",
     "text": [
      "enter numbers: 1 2 3 5 8 2 3 4\n",
      "enter element to search: 2\n",
      "number is present\n"
     ]
    }
   ],
   "source": [
    "# method 3 - Using bisect_left() method on sorted list\n",
    "# The list needs to be sorted in order to apply this method.\n",
    "# The bisect_left() method find's and returns the first occurrence of the given element in a sorted array.\n",
    "import bisect\n",
    "number = list(map(int,input('enter numbers: ').split()))\n",
    "search = int(input('enter element to search: '))\n",
    "number.sort()\n",
    "if bisect.bisect_left(number,search):\n",
    "    print('number is present')\n",
    "else:\n",
    "    print('number is not present')"
   ]
  },
  {
   "cell_type": "markdown",
   "metadata": {},
   "source": [
    "# 41. program to swap any two elements in the list"
   ]
  },
  {
   "cell_type": "code",
   "execution_count": 17,
   "metadata": {},
   "outputs": [
    {
     "name": "stdout",
     "output_type": "stream",
     "text": [
      "enter numbers: 1 2 3 4 5 6 7 8 9\n",
      "enter location of element 1 to swap: 2\n",
      "enter location of element 2 to swap: 4\n",
      "[1, 2, 3, 4, 5, 6, 7, 8, 9]\n",
      "[1, 2, 5, 4, 3, 6, 7, 8, 9]\n"
     ]
    }
   ],
   "source": [
    "# Method 1: Simply swap values using comma separator\n",
    "number = list(map(int,input('enter numbers: ').split()))\n",
    "swap1 = int(input('enter location of element 1 to swap: '))\n",
    "swap2 = int(input('enter location of element 2 to swap: '))\n",
    "print(number)\n",
    "number[swap1], number[swap2] = number[swap2], number[swap1]\n",
    "print(number)"
   ]
  },
  {
   "cell_type": "code",
   "execution_count": 18,
   "metadata": {},
   "outputs": [
    {
     "name": "stdout",
     "output_type": "stream",
     "text": [
      "enter numbers: 1 2 3 4 5 6 7 8 9\n",
      "enter location of element 1 to swap: 2\n",
      "enter location of element 2 to swap: 4\n",
      "[1, 2, 3, 4, 5, 6, 7, 8, 9]\n",
      "[1, 2, 6, 4, 3, 5, 7, 8, 9]\n"
     ]
    }
   ],
   "source": [
    "# method 2 - Pop values and then inserting them back\n",
    "number = list(map(int,input('enter numbers: ').split()))\n",
    "swap1 = int(input('enter location of element 1 to swap: '))\n",
    "swap2 = int(input('enter location of element 2 to swap: '))\n",
    "print(number)\n",
    "val1 = number.pop(swap1)\n",
    "val2 = number.pop(swap2)\n",
    "number.insert(swap1,val2)\n",
    "number.insert(swap2,val1)\n",
    "print(number)"
   ]
  },
  {
   "cell_type": "code",
   "execution_count": 19,
   "metadata": {},
   "outputs": [
    {
     "name": "stdout",
     "output_type": "stream",
     "text": [
      "enter numbers: 1 2 3 4 5 6 7 8 9\n",
      "enter element 1 to swap: 2\n",
      "enter element 2 to swap: 4\n",
      "[1, 2, 3, 4, 5, 6, 7, 8, 9]\n",
      "[1, 4, 3, 2, 5, 6, 7, 8, 9]\n"
     ]
    }
   ],
   "source": [
    "# method 3 - Swapping two values based on their values entered by the user\n",
    "number = list(map(int,input('enter numbers: ').split()))\n",
    "swap1 = int(input('enter element 1 to swap: '))\n",
    "swap2 = int(input('enter element 2 to swap: '))\n",
    "print(number)\n",
    "index1 = number.index(swap1)\n",
    "index2 = number.index(swap2)\n",
    "number[index1], number[index2] = number[index2], number[index1]\n",
    "print(number)"
   ]
  },
  {
   "cell_type": "markdown",
   "metadata": {},
   "source": [
    "# 42. program to interchange first and last element in a list"
   ]
  },
  {
   "cell_type": "code",
   "execution_count": 20,
   "metadata": {},
   "outputs": [
    {
     "name": "stdout",
     "output_type": "stream",
     "text": [
      "enter numbers: 2 4 6 8 5\n",
      "[2, 4, 6, 8, 5]\n",
      "[5, 4, 6, 8, 2]\n"
     ]
    }
   ],
   "source": [
    "# method 1- \n",
    "number = list(map(int,input('enter numbers: ').split()))\n",
    "print(number)\n",
    "length = len(number)\n",
    "temp = number[0]\n",
    "number[0] = number[length-1]\n",
    "number[length-1] = temp\n",
    "print(number)"
   ]
  },
  {
   "cell_type": "code",
   "execution_count": 21,
   "metadata": {},
   "outputs": [
    {
     "name": "stdout",
     "output_type": "stream",
     "text": [
      "enter numbers: 2 3 4 5 7 8 9\n",
      "[2, 3, 4, 5, 7, 8, 9]\n",
      "[9, 3, 4, 5, 7, 8, 2]\n"
     ]
    }
   ],
   "source": [
    "# method 2 - \n",
    "number = list(map(int,input('enter numbers: ').split()))\n",
    "print(number)\n",
    "temp = number[-1]\n",
    "number[-1] = number[0]\n",
    "number[0] = temp\n",
    "print(number)"
   ]
  },
  {
   "cell_type": "code",
   "execution_count": 22,
   "metadata": {},
   "outputs": [
    {
     "name": "stdout",
     "output_type": "stream",
     "text": [
      "enter numbers: 2 3 4 5 6 7 8\n",
      "[2, 3, 4, 5, 6, 7, 8]\n",
      "[8, 3, 4, 5, 6, 7, 2]\n"
     ]
    }
   ],
   "source": [
    "# method 3 -\n",
    "number = list(map(int,input('enter numbers: ').split()))\n",
    "print(number)\n",
    "number[0],number[-1] = number[-1],number[0]\n",
    "print(number)"
   ]
  },
  {
   "cell_type": "code",
   "execution_count": 23,
   "metadata": {},
   "outputs": [
    {
     "name": "stdout",
     "output_type": "stream",
     "text": [
      "enter numbers: 2 4 6 8 9\n",
      "[2, 4, 6, 8, 9]\n",
      "[9, 4, 6, 8, 2]\n"
     ]
    }
   ],
   "source": [
    "# method 4 -\n",
    "number = list(map(int,input('enter numbers: ').split()))\n",
    "print(number)\n",
    "first = number.pop(0)\n",
    "last = number.pop(-1)\n",
    "number.insert(0,last)\n",
    "number.append(first)\n",
    "print(number)"
   ]
  },
  {
   "cell_type": "markdown",
   "metadata": {},
   "source": [
    "# 43. program to find the cumulative sum of elements of a list"
   ]
  },
  {
   "cell_type": "code",
   "execution_count": 1,
   "metadata": {},
   "outputs": [
    {
     "name": "stdout",
     "output_type": "stream",
     "text": [
      "enter numbers: 2 4 5 6 9 12\n",
      "[2, 4, 5, 6, 9, 12]\n",
      "[2, 6, 11, 17, 26, 38]\n"
     ]
    }
   ],
   "source": [
    "number = list(map(int,input('enter numbers: ').split()))\n",
    "print(number)\n",
    "sum1 = 0\n",
    "cum_lst = []\n",
    "for i in number:\n",
    "    sum1 += i\n",
    "    cum_lst.append(sum1)\n",
    "print(cum_lst)"
   ]
  },
  {
   "cell_type": "markdown",
   "metadata": {},
   "source": [
    "# 44. How to clone or copy a list"
   ]
  },
  {
   "cell_type": "code",
   "execution_count": 2,
   "metadata": {},
   "outputs": [
    {
     "name": "stdout",
     "output_type": "stream",
     "text": [
      "enter numbers: 2 3 4 5 6 7\n",
      "list:  [2, 3, 4, 5, 6, 7]\n",
      "clone:  [2, 3, 4, 5, 6, 7]\n"
     ]
    }
   ],
   "source": [
    "# method 1 - using copy() method\n",
    "number = list(map(int,input('enter numbers: ').split()))\n",
    "print('list: ',number)\n",
    "clone = number.copy()\n",
    "print('clone: ',clone)"
   ]
  },
  {
   "cell_type": "code",
   "execution_count": 3,
   "metadata": {},
   "outputs": [
    {
     "name": "stdout",
     "output_type": "stream",
     "text": [
      "enter numbers: 2 3 4 5 6 7 8\n",
      "list:  [2, 3, 4, 5, 6, 7, 8]\n",
      "shallow copy:  [2, 3, 4, 5, 6, 7, 8]\n",
      "deep copy:  [2, 3, 4, 5, 6, 7, 8]\n"
     ]
    }
   ],
   "source": [
    "# method 2 - Using shallow copy or deep copy method\n",
    "import copy\n",
    "number = list(map(int,input('enter numbers: ').split()))\n",
    "print('list: ',number)\n",
    "shall_cpy = copy.copy(number)\n",
    "deep_cpy = copy.deepcopy(number)\n",
    "print('shallow copy: ',shall_cpy)\n",
    "print('deep copy: ',deep_cpy)"
   ]
  },
  {
   "cell_type": "code",
   "execution_count": 4,
   "metadata": {},
   "outputs": [
    {
     "name": "stdout",
     "output_type": "stream",
     "text": [
      "enter numbers: 1 2 3 4 5 6\n",
      "list:  [1, 2, 3, 4, 5, 6]\n",
      "clone:  [1, 2, 3, 4, 5, 6]\n"
     ]
    }
   ],
   "source": [
    "# method 3 - using list slicing\n",
    "number = list(map(int,input('enter numbers: ').split()))\n",
    "print('list: ',number)\n",
    "cpy = number[:]\n",
    "print('clone: ',cpy)"
   ]
  },
  {
   "cell_type": "code",
   "execution_count": 6,
   "metadata": {},
   "outputs": [
    {
     "name": "stdout",
     "output_type": "stream",
     "text": [
      "enter numbers: 1 2 3 4 5 6\n",
      "list:  [1, 2, 3, 4, 5, 6]\n",
      "clone:  [1, 2, 3, 4, 5, 6]\n"
     ]
    }
   ],
   "source": [
    "# method 4 - using extend() method - \n",
    "# extend() method is used to append the elements of an iterable to the end of another one.\n",
    "number = list(map(int,input('enter numbers: ').split()))\n",
    "print('list: ',number)\n",
    "cpy = []\n",
    "cpy.extend(number)\n",
    "print('clone: ',cpy)"
   ]
  },
  {
   "cell_type": "code",
   "execution_count": 7,
   "metadata": {},
   "outputs": [
    {
     "name": "stdout",
     "output_type": "stream",
     "text": [
      "enter numbers: 1 2 3 4 5 6 7 \n",
      "list:  [1, 2, 3, 4, 5, 6, 7]\n",
      "clone:  [1, 2, 3, 4, 5, 6, 7]\n"
     ]
    }
   ],
   "source": [
    "# method 5 - using list method\n",
    "number = list(map(int,input('enter numbers: ').split()))\n",
    "print('list: ',number)\n",
    "cpy = list(number)\n",
    "print('clone: ',cpy)"
   ]
  },
  {
   "cell_type": "markdown",
   "metadata": {},
   "source": [
    "# 45. program to find the sum of number digits in list"
   ]
  },
  {
   "cell_type": "code",
   "execution_count": 15,
   "metadata": {},
   "outputs": [
    {
     "name": "stdout",
     "output_type": "stream",
     "text": [
      "enter numbers: 23 45 78 65 434 89\n",
      "list:  [23, 45, 78, 65, 434, 89]\n",
      "digits sum:  [5, 9, 15, 11, 47, 17]\n"
     ]
    }
   ],
   "source": [
    "# method 1 - Using loop and finding digit Sum for each\n",
    "number = list(map(int,input('enter numbers: ').split()))\n",
    "print('list: ',number)\n",
    "dig_sum = []\n",
    "for i in number:\n",
    "    dig = i%10+int(i/10)\n",
    "    dig_sum.append(dig)\n",
    "print('digits sum: ',dig_sum)"
   ]
  },
  {
   "cell_type": "code",
   "execution_count": 22,
   "metadata": {},
   "outputs": [
    {
     "name": "stdout",
     "output_type": "stream",
     "text": [
      "enter numbers: 12 45 76 89 23\n",
      "list:  [12, 45, 76, 89, 23]\n",
      "digits sum:  [3, 9, 13, 17, 5]\n"
     ]
    }
   ],
   "source": [
    "# Method 2: Using str() method\n",
    "number = list(map(int,input('enter numbers: ').split()))\n",
    "print('list: ',number)\n",
    "dig_sum_list = []\n",
    "for ele in number:\n",
    "    dig_sum = 0\n",
    "    for single_digit in str(ele):\n",
    "        dig_sum += int(single_digit)\n",
    "    dig_sum_list.append(dig_sum)\n",
    "print('digits sum: ',dig_sum_list)"
   ]
  },
  {
   "cell_type": "code",
   "execution_count": 23,
   "metadata": {},
   "outputs": [
    {
     "name": "stdout",
     "output_type": "stream",
     "text": [
      "enter numbers: 23 45 78 65 34 90\n",
      "list:  [23, 45, 78, 65, 34, 90]\n",
      "digits sum:  [5, 9, 15, 11, 7, 9]\n"
     ]
    }
   ],
   "source": [
    "# Method 3: Using list comprehension\n",
    "number = list(map(int,input('enter numbers: ').split()))\n",
    "print('list: ',number)\n",
    "dig_sum_list = list(map(lambda ele: sum(int(dig) for dig in str(ele)), number ))\n",
    "print('digits sum: ',dig_sum_list)"
   ]
  },
  {
   "cell_type": "markdown",
   "metadata": {},
   "source": [
    "# 46. Cumulative List"
   ]
  },
  {
   "cell_type": "code",
   "execution_count": 2,
   "metadata": {},
   "outputs": [
    {
     "name": "stdout",
     "output_type": "stream",
     "text": [
      "Enter Elements of 1st List:1 2 3 4\n",
      "[1, 3, 6, 10]\n"
     ]
    }
   ],
   "source": [
    "def Cumulative(lists):\n",
    "    clist = []\n",
    "    length = len(lists)\n",
    "    clist = [sum(lists[0:x:1]) for x in range(0, length+1)]\n",
    "    return clist[1:]\n",
    " \n",
    "lists = list(map(int,input('Enter Elements of 1st List:').split()))\n",
    "print (Cumulative(lists))"
   ]
  },
  {
   "cell_type": "code",
   "execution_count": null,
   "metadata": {},
   "outputs": [],
   "source": []
  }
 ],
 "metadata": {
  "kernelspec": {
   "display_name": "Python 3",
   "language": "python",
   "name": "python3"
  },
  "language_info": {
   "codemirror_mode": {
    "name": "ipython",
    "version": 3
   },
   "file_extension": ".py",
   "mimetype": "text/x-python",
   "name": "python",
   "nbconvert_exporter": "python",
   "pygments_lexer": "ipython3",
   "version": "3.8.8"
  }
 },
 "nbformat": 4,
 "nbformat_minor": 4
}
