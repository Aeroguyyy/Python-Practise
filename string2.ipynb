{
 "cells": [
  {
   "cell_type": "code",
   "execution_count": null,
   "metadata": {},
   "outputs": [],
   "source": []
  },
  {
   "cell_type": "markdown",
   "metadata": {},
   "source": [
    "# 31. Find the ASCII value of each character of the string"
   ]
  },
  {
   "cell_type": "code",
   "execution_count": 5,
   "metadata": {},
   "outputs": [
    {
     "name": "stdout",
     "output_type": "stream",
     "text": [
      "Enter String: akshay\n",
      "ASCII Value of akshay is [97, 107, 115, 104, 97, 121]\n"
     ]
    }
   ],
   "source": [
    "string = str(input('Enter String: '))\n",
    "ascii_code = []\n",
    "for i in range(len(string)):\n",
    "    ascii_code.append(ord(string[i]))\n",
    "print('ASCII Value of '+string+' is',ascii_code)    "
   ]
  },
  {
   "cell_type": "markdown",
   "metadata": {},
   "source": [
    "# 32. Print the reverse of a string that contains digits"
   ]
  },
  {
   "cell_type": "code",
   "execution_count": 6,
   "metadata": {},
   "outputs": [
    {
     "name": "stdout",
     "output_type": "stream",
     "text": [
      "Enter Number: 20041998\n",
      "Reverse Number:  89914002\n"
     ]
    }
   ],
   "source": [
    "string = str(input('Enter Number: '))\n",
    "reverse = string[::-1]\n",
    "print('Reverse Number: ',reverse)"
   ]
  },
  {
   "cell_type": "code",
   "execution_count": 7,
   "metadata": {},
   "outputs": [
    {
     "name": "stdout",
     "output_type": "stream",
     "text": [
      "Enter Number: 20041998\n",
      "Reverse Number:  89914002\n"
     ]
    }
   ],
   "source": [
    "string = str(input('Enter Number: '))\n",
    "print('Reverse Number: ',string[::-1])"
   ]
  },
  {
   "cell_type": "markdown",
   "metadata": {},
   "source": [
    "# 33. Convert a String to camelCase"
   ]
  },
  {
   "cell_type": "code",
   "execution_count": 15,
   "metadata": {},
   "outputs": [
    {
     "name": "stdout",
     "output_type": "stream",
     "text": [
      "Enter String: aksha_jadhav-245 hii+by\n",
      "CamelCase:  AkshaJadhav245Hii+By\n"
     ]
    }
   ],
   "source": [
    "from re import sub\n",
    "string = str(input('Enter String: '))\n",
    "string = sub(r'(_|-)+', ' ',string).title().replace(' ','')\n",
    "print('CamelCase: ',string)"
   ]
  },
  {
   "cell_type": "markdown",
   "metadata": {},
   "source": [
    "# 34. Capitalizes the first letter of each word in a string"
   ]
  },
  {
   "cell_type": "code",
   "execution_count": 8,
   "metadata": {},
   "outputs": [
    {
     "name": "stdout",
     "output_type": "stream",
     "text": [
      "Enter String: my name is akshay jadhav\n",
      "Capitalized String:  My name is akshay jadhav\n"
     ]
    }
   ],
   "source": [
    "# method 1\n",
    "string = str(input('Enter String: '))\n",
    "print('Capitalized String: ',string.capitalize())"
   ]
  },
  {
   "cell_type": "code",
   "execution_count": 11,
   "metadata": {},
   "outputs": [
    {
     "name": "stdout",
     "output_type": "stream",
     "text": [
      "Enter String: my name is akshay jadhav\n",
      "Capitalized String:  My Name Is Akshay Jadhav\n"
     ]
    }
   ],
   "source": [
    "# method 2\n",
    "string = str(input('Enter String: '))\n",
    "cap = ' '.join(word[0].upper() + word[1:] for word in string.split())\n",
    "print('Capitalized String: ',cap)"
   ]
  },
  {
   "cell_type": "markdown",
   "metadata": {},
   "source": [
    "# 35. program to check if a string is palindrome or not"
   ]
  },
  {
   "cell_type": "code",
   "execution_count": 19,
   "metadata": {},
   "outputs": [
    {
     "name": "stdout",
     "output_type": "stream",
     "text": [
      "Enter String: abccba\n",
      "String abccba is Palindrone\n"
     ]
    }
   ],
   "source": [
    "string = str(input('Enter String: '))\n",
    "reverse = string[::-1]\n",
    "if string == reverse:\n",
    "    print('String '+string+' is Palindrone')\n",
    "else:\n",
    "    print('String '+string+' is not Palindrone')"
   ]
  },
  {
   "cell_type": "markdown",
   "metadata": {},
   "source": [
    "# 36. program to input a string and find total number uppercase and lowercase letters"
   ]
  },
  {
   "cell_type": "code",
   "execution_count": 22,
   "metadata": {},
   "outputs": [
    {
     "name": "stdout",
     "output_type": "stream",
     "text": [
      "Enter String: My NAME is Akshay Jadhav\n",
      "Number of Uppercase Characters:  7\n",
      "Number of Lowercase Characters:  13\n"
     ]
    }
   ],
   "source": [
    "# method 1\n",
    "string = str(input('Enter String: '))\n",
    "up_case = 0\n",
    "low_case = 0\n",
    "for c in string:\n",
    "    if c>='A' and c<='Z':\n",
    "        up_case += 1\n",
    "    if c>='a' and c<='z':\n",
    "        low_case += 1\n",
    "print('Number of Uppercase Characters: ',up_case)\n",
    "print('Number of Lowercase Characters: ',low_case)"
   ]
  },
  {
   "cell_type": "code",
   "execution_count": 23,
   "metadata": {},
   "outputs": [
    {
     "name": "stdout",
     "output_type": "stream",
     "text": [
      "Enter String: My Name is Akshay Jadhav\n",
      "Number of Uppercase Characters:  4\n",
      "Number of Lowercase Characters:  16\n"
     ]
    }
   ],
   "source": [
    "# method 2\n",
    "string = str(input('Enter String: '))\n",
    "up_case = 0\n",
    "low_case = 0\n",
    "for c in string:\n",
    "    up_case += c.isupper()\n",
    "    low_case += c.islower()\n",
    "print('Number of Uppercase Characters: ',up_case)\n",
    "print('Number of Lowercase Characters: ',low_case)"
   ]
  },
  {
   "cell_type": "markdown",
   "metadata": {},
   "source": [
    "# 37. program to input a string and find total number of letters and digits"
   ]
  },
  {
   "cell_type": "code",
   "execution_count": 24,
   "metadata": {},
   "outputs": [
    {
     "name": "stdout",
     "output_type": "stream",
     "text": [
      "Enter String: my roll no is 301 and mobile number is 7769972967\n",
      "Number of Letters:  27\n",
      "Number of Digits:  13\n"
     ]
    }
   ],
   "source": [
    "string = str(input('Enter String: '))\n",
    "letters = 0\n",
    "digits = 0\n",
    "for c in string:\n",
    "    if (c>='A' and c<='Z') or (c>='a' and c<='z'):\n",
    "        letters += 1\n",
    "    if c>='0' and c<='9':\n",
    "        digits += 1\n",
    "print('Number of Letters: ',letters)\n",
    "print('Number of Digits: ',digits)"
   ]
  },
  {
   "cell_type": "code",
   "execution_count": 32,
   "metadata": {},
   "outputs": [
    {
     "name": "stdout",
     "output_type": "stream",
     "text": [
      "Enter String: akshay345\n",
      "Number of Letters:  6\n",
      "Number of Digits:  3\n"
     ]
    }
   ],
   "source": [
    "string = str(input('Enter String: '))\n",
    "letters = 0\n",
    "digits = 0\n",
    "for c in string:\n",
    "    letters += c.isalpha()\n",
    "    digits += c.isnumeric()\n",
    "print('Number of Letters: ',letters)\n",
    "print('Number of Digits: ',digits)"
   ]
  },
  {
   "cell_type": "markdown",
   "metadata": {},
   "source": [
    "# 38. program to convert a list of characters into a string"
   ]
  },
  {
   "cell_type": "code",
   "execution_count": 37,
   "metadata": {},
   "outputs": [
    {
     "name": "stdout",
     "output_type": "stream",
     "text": [
      "String:  Akshay\n"
     ]
    }
   ],
   "source": [
    "# method 1\n",
    "chars = ['A','k','s','h','a','y']\n",
    "string = ''\n",
    "for w in chars:\n",
    "    string += w\n",
    "print('String: ',string)"
   ]
  },
  {
   "cell_type": "code",
   "execution_count": 41,
   "metadata": {},
   "outputs": [
    {
     "name": "stdout",
     "output_type": "stream",
     "text": [
      "String:  Akshay\n",
      "String:  Jadhav\n"
     ]
    }
   ],
   "source": [
    "# method 2\n",
    "chars = ['A','k','s','h','a','y']\n",
    "string = ''\n",
    "string = string.join(chars)\n",
    "print('String: ',string)\n",
    "\n",
    "chars = ['J','a','d','h','a','v']\n",
    "string = ''\n",
    "print('String: ',string.join(chars))"
   ]
  },
  {
   "cell_type": "markdown",
   "metadata": {},
   "source": [
    "# 39. program to check whether a variable is a string or not"
   ]
  },
  {
   "cell_type": "code",
   "execution_count": 49,
   "metadata": {},
   "outputs": [
    {
     "name": "stdout",
     "output_type": "stream",
     "text": [
      "Variable is a string\n"
     ]
    }
   ],
   "source": [
    "# method 1\n",
    "data = 'akshay'\n",
    "if isinstance(data,str):\n",
    "    print('Variable is a string')\n",
    "else:\n",
    "    print('Variable is not a string')"
   ]
  },
  {
   "cell_type": "code",
   "execution_count": 51,
   "metadata": {},
   "outputs": [
    {
     "name": "stdout",
     "output_type": "stream",
     "text": [
      "Variable is a string\n"
     ]
    }
   ],
   "source": [
    "# method 2\n",
    "data = 'akshay'\n",
    "if type(data) == str:\n",
    "    print('Variable is a string')\n",
    "else:\n",
    "    print('Variable is not a string')"
   ]
  },
  {
   "cell_type": "markdown",
   "metadata": {},
   "source": [
    "# 40. program to count occurrence of a word in the given text"
   ]
  },
  {
   "cell_type": "code",
   "execution_count": 54,
   "metadata": {},
   "outputs": [
    {
     "name": "stdout",
     "output_type": "stream",
     "text": [
      "Enter Word : the\n",
      "Occurrence of: the \n",
      "Number of Times: 3\n"
     ]
    }
   ],
   "source": [
    "text = '''Given a text (paragraph) and a word whose occurrence to be found in the text/paragraph, \n",
    "we have to find the how many times word is repeated in the text.'''\n",
    "\n",
    "word = str(input('Enter Word : '))\n",
    "count = 0\n",
    "for w in text.split():\n",
    "    if w == word:\n",
    "        count += 1\n",
    "print('Occurrence of:',word,'\\nNumber of Times:',count)"
   ]
  },
  {
   "cell_type": "markdown",
   "metadata": {},
   "source": [
    "# 41. program to search for a pattern in string"
   ]
  },
  {
   "cell_type": "code",
   "execution_count": 58,
   "metadata": {},
   "outputs": [
    {
     "name": "stdout",
     "output_type": "stream",
     "text": [
      "Enter Number of Words: 5\n",
      "Enter Word: new delhi\n",
      "Enter Word: goa\n",
      "Enter Word: nonsense\n",
      "Enter Word: nonprofit\n",
      "Enter Word: lapi\n",
      "Enter pattern to search:non\n",
      "nonsense\n",
      "nonprofit\n"
     ]
    }
   ],
   "source": [
    "n = int(input('Enter Number of Words: '))\n",
    "city = ()\n",
    "for i in range(n):\n",
    "    c = input('Enter Word: ')\n",
    "    city += (c,)\n",
    "pattern = str(input('Enter pattern to search:'))\n",
    "for c in city:\n",
    "    if(c.find(pattern)!=-1):\n",
    "        print(c)"
   ]
  },
  {
   "cell_type": "markdown",
   "metadata": {},
   "source": [
    "# 42. program for removing i-th character from a string"
   ]
  },
  {
   "cell_type": "code",
   "execution_count": 63,
   "metadata": {},
   "outputs": [
    {
     "name": "stdout",
     "output_type": "stream",
     "text": [
      "Enter String: akshay\n",
      "Enter Index of Character to be Removed: 3\n",
      "New String:  aksay\n"
     ]
    }
   ],
   "source": [
    "# method 1 - using replace()\n",
    "string = input('Enter String: ')\n",
    "i = int(input('Enter Index of Character to be Removed: '))\n",
    "new_str = string.replace(string[i],'',1)\n",
    "print('New String: ',new_str)"
   ]
  },
  {
   "cell_type": "code",
   "execution_count": 66,
   "metadata": {},
   "outputs": [
    {
     "name": "stdout",
     "output_type": "stream",
     "text": [
      "Enter String: akshay\n",
      "Enter Index of Character to be Removed: 3\n",
      "New String:  aksay\n"
     ]
    }
   ],
   "source": [
    "# method 2 - using loop\n",
    "string = input('Enter String: ')\n",
    "i = int(input('Enter Index of Character to be Removed: '))\n",
    "new_str = ''\n",
    "for index in range(len(string)):\n",
    "    if index != i :\n",
    "        new_str = new_str + string[index]\n",
    "print('New String: ',new_str)"
   ]
  },
  {
   "cell_type": "code",
   "execution_count": 67,
   "metadata": {},
   "outputs": [
    {
     "name": "stdout",
     "output_type": "stream",
     "text": [
      "Enter String: akshay\n",
      "Enter Index of Character to be Removed: 3\n",
      "New String:  aksay\n"
     ]
    }
   ],
   "source": [
    "# method 3 - using slice method with string concatenation\n",
    "string = input('Enter String: ')\n",
    "i = int(input('Enter Index of Character to be Removed: '))\n",
    "new_str = string[:i] + string[i+1:]\n",
    "print('New String: ',new_str)"
   ]
  },
  {
   "cell_type": "markdown",
   "metadata": {},
   "source": [
    "# 43. program to find the length of a string (different ways)"
   ]
  },
  {
   "cell_type": "code",
   "execution_count": 59,
   "metadata": {},
   "outputs": [
    {
     "name": "stdout",
     "output_type": "stream",
     "text": [
      "Enter String: akshay\n",
      "Length of String is  6\n"
     ]
    }
   ],
   "source": [
    "# method 1 - len() function\n",
    "string = str(input('Enter String: '))\n",
    "print('Length of String is ',len(string))"
   ]
  },
  {
   "cell_type": "code",
   "execution_count": 60,
   "metadata": {},
   "outputs": [
    {
     "name": "stdout",
     "output_type": "stream",
     "text": [
      "Enter String: akshay\n",
      "Length of String is  6\n"
     ]
    }
   ],
   "source": [
    "# method 2 - loop\n",
    "string = str(input('Enter String: '))\n",
    "str_len = 0\n",
    "for c in string:\n",
    "    str_len += 1\n",
    "print('Length of String is ',str_len)"
   ]
  },
  {
   "cell_type": "code",
   "execution_count": 61,
   "metadata": {},
   "outputs": [
    {
     "name": "stdout",
     "output_type": "stream",
     "text": [
      "Enter String: akshay\n",
      "Length of String is  6\n"
     ]
    }
   ],
   "source": [
    "# method 3 - slicing\n",
    "string = str(input('Enter String: '))\n",
    "str_len = 0\n",
    "while string[str_len:]:\n",
    "    str_len += 1\n",
    "print('Length of String is ',str_len)"
   ]
  },
  {
   "cell_type": "markdown",
   "metadata": {},
   "source": [
    "# 44. program to accept the strings which contains all vowels"
   ]
  },
  {
   "cell_type": "code",
   "execution_count": 71,
   "metadata": {},
   "outputs": [
    {
     "name": "stdout",
     "output_type": "stream",
     "text": [
      "Enter String:  a e i o u\n",
      "The String Contains all Vowels\n"
     ]
    }
   ],
   "source": [
    "string = str(input('Enter String: '))\n",
    "string = string.lower()\n",
    "vowels = set('aeiou')\n",
    "for char in string:\n",
    "    if char in vowels:\n",
    "        vowels.remove(char)\n",
    "if len(vowels) == 0:\n",
    "    print('The String Contains all Vowels')\n",
    "else:\n",
    "    print('The String does not contain all Vowels')"
   ]
  },
  {
   "cell_type": "markdown",
   "metadata": {},
   "source": [
    "# 45. program to find the least frequent character in the string"
   ]
  },
  {
   "cell_type": "code",
   "execution_count": 74,
   "metadata": {},
   "outputs": [
    {
     "name": "stdout",
     "output_type": "stream",
     "text": [
      "Enter String: my name is akshay jadhav\n",
      "n is the Least Frequency Character with Frequency of  1\n"
     ]
    }
   ],
   "source": [
    "# method 1 - Using loop and min() method\n",
    "# Initialize : dictionary freq{}\n",
    "# Loop over the string\n",
    "# If the character exists, increase its frequency.\n",
    "# If the character does not exist in dict., add its frequency to 1.\n",
    "# Find the character with least frequency, using min() method.\n",
    "# Print the least frequent character.\n",
    "string = str(input('Enter String: '))\n",
    "freq = {}\n",
    "for i in string:\n",
    "    if i in freq:\n",
    "        freq[i] += 1\n",
    "    else:\n",
    "        freq[i] = 1\n",
    "least_freq = min(freq,key = freq.get)\n",
    "print(least_freq,'is the Least Frequency Character with Frequency of ',freq[least_freq])"
   ]
  },
  {
   "cell_type": "code",
   "execution_count": 77,
   "metadata": {},
   "outputs": [
    {
     "name": "stdout",
     "output_type": "stream",
     "text": [
      "Enter String: my name is akshay jadhav\n",
      "n is the Least Frequency Character with Frequency of  1\n"
     ]
    }
   ],
   "source": [
    "# method 2 - Using the counter() method\n",
    "# Initialize : dictionary freq{}\n",
    "# Using collections.counter() method, find the frequency of each character.\n",
    "# Find the character with least frequency, using min() method.\n",
    "# Print the least frequent character.\n",
    "import collections\n",
    "string = str(input('Enter String: '))\n",
    "freq = collections.Counter(string)\n",
    "least_freq = min(freq,key = freq.get)\n",
    "print(least_freq,'is the Least Frequency Character with Frequency of ',freq[least_freq])"
   ]
  },
  {
   "cell_type": "markdown",
   "metadata": {},
   "source": [
    "# 46. program to split and join a string"
   ]
  },
  {
   "cell_type": "code",
   "execution_count": 83,
   "metadata": {},
   "outputs": [
    {
     "name": "stdout",
     "output_type": "stream",
     "text": [
      "Enter String: my name is akshay jadhav\n",
      "Enter Separator: /\n",
      "['my', 'name', 'is', 'akshay', 'jadhav']\n",
      "my/name/is/akshay/jadhav\n"
     ]
    }
   ],
   "source": [
    "string = str(input('Enter String: '))\n",
    "separator = str(input('Enter Separator: '))\n",
    "split_str = string.split(' ')\n",
    "join_str = separator.join(split_str)\n",
    "print(split_str)\n",
    "print(join_str)"
   ]
  },
  {
   "cell_type": "markdown",
   "metadata": {},
   "source": [
    "# 47. program to find words which are greater than given length k"
   ]
  },
  {
   "cell_type": "code",
   "execution_count": 1,
   "metadata": {},
   "outputs": [
    {
     "name": "stdout",
     "output_type": "stream",
     "text": [
      "Enter String: my name is akshay jadhav \n",
      "Enter Value of K: 4\n",
      "All Words which are greater than 4 : ['akshay', 'jadhav']\n"
     ]
    }
   ],
   "source": [
    "string = input('Enter String: ')\n",
    "k = int(input('Enter Value of K: '))\n",
    "large_str = []\n",
    "words = string.split(' ')\n",
    "for l in words:\n",
    "    if len(l) > k:\n",
    "        large_str.append(l)\n",
    "print('All Words which are greater than',k,':',large_str)"
   ]
  },
  {
   "cell_type": "markdown",
   "metadata": {},
   "source": [
    "# 48. How to check if a string contains special characters or not"
   ]
  },
  {
   "cell_type": "code",
   "execution_count": 3,
   "metadata": {},
   "outputs": [
    {
     "name": "stdout",
     "output_type": "stream",
     "text": [
      "Enter String: akshay@123\n",
      "string contains special characters\n"
     ]
    }
   ],
   "source": [
    "import re\n",
    "string = input('Enter String: ')\n",
    "reg_exp = re.compile('[@_!#$%^&*()<>?/\\|}{~:]')\n",
    "if(reg_exp.search(string) == None):\n",
    "    print('string contains no special characters')\n",
    "else:\n",
    "    print('string contains special characters')"
   ]
  },
  {
   "cell_type": "markdown",
   "metadata": {},
   "source": [
    "# 49. program to find the maximum frequency character in the string"
   ]
  },
  {
   "cell_type": "code",
   "execution_count": 8,
   "metadata": {},
   "outputs": [
    {
     "name": "stdout",
     "output_type": "stream",
     "text": [
      "Enter String: zzzzaa\n",
      "z is the maximum frequency character with frequency of  1\n",
      "{'z': 1}\n"
     ]
    }
   ],
   "source": [
    "# method 1 - Using loop and max() method\n",
    "# Initialize: dictionary freq{}\n",
    "# Loop over the string\n",
    "# If the character exists, increase its frequency.\n",
    "# If the character does not exist in dict., add its frequency to 1.\n",
    "# Find the character with maximum frequency, using max() method.\n",
    "# Print the most frequent character.\n",
    "string = input('Enter String: ')\n",
    "freq = {}\n",
    "for i in string:\n",
    "    for i in freq:\n",
    "        freq[i] += 1\n",
    "    else:\n",
    "        freq[i] = 1\n",
    "max_freq_char = max(freq,key=freq.get)\n",
    "print(max_freq_char,'is the maximum frequency character with frequency of ',freq[max_freq_char])\n",
    "# not executed"
   ]
  },
  {
   "cell_type": "code",
   "execution_count": 10,
   "metadata": {},
   "outputs": [
    {
     "name": "stdout",
     "output_type": "stream",
     "text": [
      "Enter String: akshay\n",
      "a is the maximum frequency character with frequency of  2\n"
     ]
    }
   ],
   "source": [
    "# method 2 - Using counter() method\n",
    "# Initialize: dictionary freq{}\n",
    "# Using collections.counter() method, find the frequency of each character.\n",
    "# Find the character with maximum frequency, using max() method.\n",
    "# Print the maximum frequency character.\n",
    "import collections\n",
    "string = input('Enter String: ')\n",
    "freq = collections.Counter(string)\n",
    "max_freq_char = max(freq,key=freq.get)\n",
    "print(max_freq_char,'is the maximum frequency character with frequency of ',freq[max_freq_char])"
   ]
  },
  {
   "cell_type": "markdown",
   "metadata": {},
   "source": [
    "# 50. program to check whether a given string is binary or not"
   ]
  },
  {
   "cell_type": "code",
   "execution_count": 14,
   "metadata": {},
   "outputs": [
    {
     "name": "stdout",
     "output_type": "stream",
     "text": [
      "Enter String: 010101\n",
      "string is a binary string\n"
     ]
    }
   ],
   "source": [
    "# method 1\n",
    "string = input('Enter String: ')\n",
    "flag = True\n",
    "for char in string:\n",
    "    if(char=='0' or char=='1'):\n",
    "        continue\n",
    "    else:\n",
    "        flag = False\n",
    "        print('string is not a binary string')\n",
    "        break\n",
    "if(flag):\n",
    "    print('string is a binary string')"
   ]
  },
  {
   "cell_type": "code",
   "execution_count": 18,
   "metadata": {},
   "outputs": [
    {
     "name": "stdout",
     "output_type": "stream",
     "text": [
      "Enter String: aksjay\n",
      "string is not a binary string\n"
     ]
    }
   ],
   "source": [
    "# method 2\n",
    "string = input('Enter String: ')\n",
    "set_str = set(string)\n",
    "bin_val = {'0','1'}\n",
    "if bin_val==set_str or set_str=={'0'} or set_str=={'1'}:\n",
    "    print('string is binary string')\n",
    "else:\n",
    "    print('string is not a binary string')"
   ]
  },
  {
   "cell_type": "markdown",
   "metadata": {},
   "source": [
    "# 51. program to execute Python code from the string"
   ]
  },
  {
   "cell_type": "code",
   "execution_count": 32,
   "metadata": {},
   "outputs": [
    {
     "name": "stdout",
     "output_type": "stream",
     "text": [
      "this is akshay jadhav\n",
      "30\n"
     ]
    }
   ],
   "source": [
    "codeStr = \"\"\"print(\"this is akshay jadhav\")\n",
    "a = 10\n",
    "b = 20\n",
    "print(a+b)\"\"\"\n",
    "exec(codeStr)"
   ]
  },
  {
   "cell_type": "markdown",
   "metadata": {},
   "source": [
    "# 52. program to find uncommon words from two string"
   ]
  },
  {
   "cell_type": "code",
   "execution_count": 20,
   "metadata": {},
   "outputs": [
    {
     "name": "stdout",
     "output_type": "stream",
     "text": [
      "enter string 1: my name is akshay jadhav\n",
      "enter string 2: my age is 34\n",
      "all uncommon words:  ['name', 'akshay', 'jadhav', 'age', '34']\n"
     ]
    }
   ],
   "source": [
    "# method 1\n",
    "str1 = input('enter string 1: ')\n",
    "str2 = input('enter string 2: ')\n",
    "count = {}\n",
    "for word in str1.split():\n",
    "    count[word] = count.get(word,0) + 1\n",
    "for word in str2.split():\n",
    "    count[word] = count.get(word,0) + 1\n",
    "uncommon_words = [word for word in count if count[word] == 1]\n",
    "print('all uncommon words: ',uncommon_words)"
   ]
  },
  {
   "cell_type": "code",
   "execution_count": 22,
   "metadata": {},
   "outputs": [
    {
     "name": "stdout",
     "output_type": "stream",
     "text": [
      "enter string 1: my name is akshay jadhav\n",
      "enter string 2: my age is 24\n",
      "all uncommon words:   name akshay jadhav age 24\n"
     ]
    }
   ],
   "source": [
    "# method 2\n",
    "str1 = input('enter string 1: ')\n",
    "str2 = input('enter string 2: ')\n",
    "str1_list = str1.split()\n",
    "str2_list = str2.split()\n",
    "uncommon = ''\n",
    "for words in str1_list:\n",
    "    if words not in str2_list:\n",
    "        uncommon = uncommon+' '+words\n",
    "for words in str2_list:\n",
    "    if words not in str1_list:\n",
    "        uncommon = uncommon+' '+words\n",
    "print('all uncommon words: ',uncommon)"
   ]
  },
  {
   "cell_type": "code",
   "execution_count": 23,
   "metadata": {},
   "outputs": [
    {
     "name": "stdout",
     "output_type": "stream",
     "text": [
      "enter string 1: my name is akhsya\n",
      "enter string 2: my age is 23\n",
      "all uncommon words:  {'name', 'akhsya', 'age', '23'}\n"
     ]
    }
   ],
   "source": [
    "# method 3 - Using built-in Python function\n",
    "str1 = input('enter string 1: ')\n",
    "str2 = input('enter string 2: ')\n",
    "str1_list = str1.split()\n",
    "str2_list = str2.split()\n",
    "uncommon = set(str1_list).symmetric_difference(set(str2_list))\n",
    "print('all uncommon words: ',uncommon)"
   ]
  },
  {
   "cell_type": "markdown",
   "metadata": {},
   "source": [
    "# 53. program to print URL from a string"
   ]
  },
  {
   "cell_type": "code",
   "execution_count": 38,
   "metadata": {},
   "outputs": [
    {
     "name": "stdout",
     "output_type": "stream",
     "text": [
      "enter string: Link to launch the exam is https://learning.tcsionhub.in/hub/rpa/eventlogin/   sjdjdjf   for further details: https://iur.ls/NQTHelp\n",
      "All URLs in a string:  ['https://learning.tcsionhub.in/hub/rpa/eventlogin/', 'https://iur.ls/NQTHelp']\n"
     ]
    }
   ],
   "source": [
    "import re\n",
    "string = input('enter string: ')\n",
    "url_re = r\"(?i)\\b((?:https?://|www\\d{0,3}[.]|[a-z0-9.\\-]+[.][a-z]{2,4}/)(?:[^\\s()<>]+|\\(([^\\s()<>]+|(\\([^\\s()<>]+\\)))*\\))+(?:\\(([^\\s()<>]+|(\\([^\\s()<>]+\\)))*\\)|[^\\s`!()\\[\\]{};:'\\\".,<>?«»\"\"'']))\"\n",
    "all_urls = re.findall(url_re,string)\n",
    "print('All URLs in a string: ',[url[0] for url in all_urls])"
   ]
  },
  {
   "cell_type": "code",
   "execution_count": null,
   "metadata": {},
   "outputs": [],
   "source": []
  }
 ],
 "metadata": {
  "kernelspec": {
   "display_name": "Python 3",
   "language": "python",
   "name": "python3"
  },
  "language_info": {
   "codemirror_mode": {
    "name": "ipython",
    "version": 3
   },
   "file_extension": ".py",
   "mimetype": "text/x-python",
   "name": "python",
   "nbconvert_exporter": "python",
   "pygments_lexer": "ipython3",
   "version": "3.8.8"
  }
 },
 "nbformat": 4,
 "nbformat_minor": 4
}
