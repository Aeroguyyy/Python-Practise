{
 "cells": [
  {
   "cell_type": "code",
   "execution_count": null,
   "id": "f81077cf",
   "metadata": {},
   "outputs": [],
   "source": []
  },
  {
   "cell_type": "markdown",
   "id": "2d33f384",
   "metadata": {},
   "source": [
    "## 1"
   ]
  },
  {
   "cell_type": "markdown",
   "id": "1e6155aa",
   "metadata": {},
   "source": [
    "* There is a JAR full of candies for sale at a mall counter. \n",
    "* JAR has the capacity N, that is JAR can contain maximum N candies when JAR is full. \n",
    "* At any point of time. JAR can have M number of Candies where M<=N. \n",
    "* Candies are served to the customers. JAR is never remain empty as when last k candies are left. \n",
    "* JAR if refilled with new candies in such a way that JAR get full.\n",
    "* Write a code to implement above scenario. Display JAR at counter with available number of candies. \n",
    "* Input should be the number of candies one customer can order at point of time. \n",
    "* Update the JAR after each purchase and display JAR at Counter.\n",
    "\n",
    "* Output should give number of Candies sold and updated number of Candies in JAR.\n",
    "\n",
    "* If Input is more than candies in JAR, return: “INVALID INPUT”\n",
    "\n",
    "* Given, \n",
    "\n",
    "* N=10, where N is NUMBER OF CANDIES AVAILABLE\n",
    "\n",
    "K =< 5, where k is number of minimum candies that must be inside JAR ever.\n",
    "\n",
    "Example 1:(N = 10, k =< 5)\n",
    "\n",
    "* Input Value\n",
    "* 3\n",
    "* Output Value\n",
    "* NUMBER OF CANDIES SOLD : 3\n",
    "* NUMBER OF CANDIES AVAILABLE : 7\n",
    "* Example : (N=10, k<=5)\n",
    "\n",
    "* Input Value\n",
    "* 0\n",
    "* Output Value\n",
    "* INVALID INPUT\n",
    "* NUMBER OF CANDIES LEFT : 10"
   ]
  },
  {
   "cell_type": "code",
   "execution_count": 57,
   "id": "2d1083ef",
   "metadata": {},
   "outputs": [
    {
     "name": "stdout",
     "output_type": "stream",
     "text": [
      "enter number of candies to buy: 3\n",
      "number of candies sold:  3\n",
      "number of candies left:  7\n"
     ]
    }
   ],
   "source": [
    "total_canndies = 10\n",
    "no_of_candies = int(input('enter number of candies to buy: '))\n",
    "if no_of_candies in range(1,6):\n",
    "    print('number of candies sold: ',no_of_candies)\n",
    "    print('number of candies left: ',total_canndies-no_of_candies)\n",
    "else:\n",
    "    print('Invalid input')\n",
    "    print('number of candies: ',total_canndies)"
   ]
  },
  {
   "cell_type": "markdown",
   "id": "745cc5b6",
   "metadata": {},
   "source": [
    "## 2"
   ]
  },
  {
   "cell_type": "markdown",
   "id": "6d26c3ad",
   "metadata": {},
   "source": [
    "* Selection of MPCS exams include a fitness test which is conducted on ground. \n",
    "* There will be a batch of 3 trainees, appearing for running test in track for 3 rounds. \n",
    "* You need to record their oxygen level after every round. \n",
    "* After trainee are finished with all rounds, \n",
    "* calculate for each trainee his average oxygen level over the 3 rounds and select one \n",
    "* with highest oxygen level as the most fit trainee. If more than one trainee attains the same highest average level, \n",
    "they all need to be selected.\n",
    "\n",
    "* Display the most fit trainee (or trainees) and the highest average oxygen level.\n",
    "\n",
    "Note:\n",
    "\n",
    "* The oxygen value entered should not be accepted if it is not in the range between 1 and 100.\n",
    "* If the calculated maximum average oxygen value of trainees is below 70 then declare the trainees as unfit \n",
    "with meaningful message as “All trainees are unfit.\n",
    "* Average Oxygen Values should be rounded."
   ]
  },
  {
   "cell_type": "code",
   "execution_count": 5,
   "id": "e7510ff2",
   "metadata": {},
   "outputs": [
    {
     "name": "stdout",
     "output_type": "stream",
     "text": [
      "45\n",
      "67\n",
      "89\n",
      "24\n",
      "90\n",
      "45\n",
      "78\n",
      "35\n",
      "89\n",
      "Trainee 1 is unfit\n",
      "Trainee 2 is unfit\n",
      "Trainee Number:  3\n"
     ]
    }
   ],
   "source": [
    "trainee = [[],[],[],[]]\n",
    "for i in range(3):\n",
    "    for j in range(3):\n",
    "            trainee[i].append(int(input()))\n",
    "            if (trainee[i][-1]) not in range(1,101):\n",
    "                    print(\"invalid input\")\n",
    "for i in range(3):\n",
    "    trainee[3].append((trainee[2][i]+trainee[1][i]+trainee[0][i])//3)\n",
    "maximum = max(trainee[3])\n",
    "for i in range(3):\n",
    "    if trainee[3][i] < 70 :\n",
    "            print(\"Trainee {0} is unfit\".format(i+1))\n",
    "    elif trainee[3][i] == maximum:\n",
    "            print(\"Trainee Number: \",i+1)"
   ]
  },
  {
   "cell_type": "markdown",
   "id": "b82f52ec",
   "metadata": {},
   "source": [
    "## 3"
   ]
  },
  {
   "cell_type": "markdown",
   "id": "35c1c5b7",
   "metadata": {},
   "source": [
    "* A washing machine works on the principle of Fuzzy System, the weight of clothes put inside it for washing is uncertain But based on weight measured by sensors, it decides time and water level which can be changed by menus given on the machine control area.  \n",
    "* For low level water, the time estimate is 25 minutes, where approximately weight is between 2000 grams or any nonzero positive number below that.\n",
    "* For medium level water, the time estimate is 35 minutes, where approximately weight is between 2001 grams and 4000 grams.\n",
    "* For high level water, the time estimate is 45 minutes, where approximately weight is above 4000 grams.\n",
    "* Assume the capacity of machine is maximum 7000 grams\n",
    "* Where approximately weight is zero, time estimate is 0 minutes.\n",
    "* Write a function which takes a numeric weight in the range [0,7000] as input and produces estimated time as output is: “OVERLOADED”, and for all other inputs, the output statement is\n",
    "* “INVALID INPUT”.\n",
    "* Input should be in the form of integer value –\n",
    "* Output must have the following format –\n",
    "* Time Estimated: Minutes\n",
    "    Example:\n",
    "* Input value\n",
    "* 2000\n",
    "* Output value\n",
    "* Time Estimated: 25 minutes"
   ]
  },
  {
   "cell_type": "code",
   "execution_count": 16,
   "id": "88c4b6f7",
   "metadata": {},
   "outputs": [
    {
     "name": "stdout",
     "output_type": "stream",
     "text": [
      "enter weight: 200\n",
      "time required: 25 minutes\n"
     ]
    }
   ],
   "source": [
    "def washing_machine(weight):\n",
    "    if(weight==0):\n",
    "        print('time required: 0 minutes')\n",
    "    elif(weight in range(1,2000)):\n",
    "        print('time required: 25 minutes')\n",
    "    elif(weight in range(2001,4000)):\n",
    "        print('Time Required: 35 minutes')\n",
    "    elif(weight in range(4001,7000)):\n",
    "        print('time required: 45 minutes')\n",
    "    else:\n",
    "        print('invalid input')\n",
    "        \n",
    "w=int(input('enter weight: '))\n",
    "washing_machine(w)"
   ]
  },
  {
   "cell_type": "markdown",
   "id": "56561aaf",
   "metadata": {},
   "source": [
    "## 4"
   ]
  },
  {
   "cell_type": "markdown",
   "id": "05c89f17",
   "metadata": {},
   "source": [
    "* The Caesar cipher is a type of substitution cipher in which each alphabet in the plaintext or messages is shifted by a number of places down the alphabet.\n",
    "* For example,with a shift of 1, P would be replaced by Q, Q would become R, and so on.\n",
    "* To pass an encrypted message from one person to another, it is first necessary that both parties have the ‘Key’ for the cipher, so that the sender may encrypt and the receiver may decrypt it.\n",
    "* Key is the number of OFFSET to shift the cipher alphabet. Key can have basic shifts from 1 to 25 positions as there are 26 total alphabets.\n",
    "* As we are designing custom Caesar Cipher, in addition to alphabets, we are considering numeric digits from 0 to 9. Digits can also be shifted by key places.\n",
    "* For Example, if a given plain text contains any digit with values 5 and keyy =2, then 5 will be replaced by 7, “-”(minus sign) will remain as it is. Key value less than 0 should result into “INVALID INPUT”\n",
    "\n",
    "* Example 1:\n",
    "* Enter your PlainText: All the best \n",
    "* Enter the Key: 1\n",
    "\n",
    "* The encrypted Text is: Bmm uif Cftu\n",
    "\n",
    "* Write a function CustomCaesarCipher(int key, String message) which will accept plaintext and key as input parameters and returns its cipher text as output."
   ]
  },
  {
   "cell_type": "code",
   "execution_count": 33,
   "id": "2886e673",
   "metadata": {},
   "outputs": [
    {
     "name": "stdout",
     "output_type": "stream",
     "text": [
      "Enter your plain text:department\n",
      "Enter the key:3\n",
      "ghsduwphqw\n"
     ]
    }
   ],
   "source": [
    "def ceaser(text,key):\n",
    "    result = \"\"\n",
    "   # transverse the plain text\n",
    "    for i in range(len(text)):\n",
    "        char = text[i]\n",
    "      # Encrypt uppercase characters in plain text\n",
    "        if (char.isupper()):\n",
    "            result += chr((ord(char) + key-65) % 26 + 65)\n",
    "      # Encrypt lowercase characters in plain text\n",
    "        elif (char.islower()):\n",
    "            result += chr((ord(char) + key - 97) % 26 + 97)\n",
    "        elif(char.isdigit()):\n",
    "            result += str(int(char) + key)\n",
    "        elif(char == '-'):\n",
    "            result += '-'\n",
    "        elif (char.isspace()):\n",
    "            result += \" \"\n",
    "    return result\n",
    "#check the above function\n",
    "text = input(\"Enter your plain text:\")\n",
    "key = int(input(\"Enter the key:\"))\n",
    "print(ceaser(text,key))"
   ]
  },
  {
   "cell_type": "markdown",
   "id": "73ef20dd",
   "metadata": {},
   "source": [
    "## 5"
   ]
  },
  {
   "cell_type": "markdown",
   "id": "1affc62f",
   "metadata": {},
   "source": [
    "* We want to estimate the cost of painting a property. Interior wall painting cost is Rs.18 per sq.ft. and exterior wall painting cost is Rs.12 per sq.ft.\n",
    "\n",
    "* Take input as\n",
    " 1. Number of Interior walls \n",
    " 2. Number of Exterior walls\n",
    " 3. Surface Area of each Interior 4. Wall in units of square feet\n",
    "* Surface Area of each Exterior Wall in units of square feet\n",
    "* If a user enters zero  as the number of walls then skip Surface area values as User may don’t  want to paint that wall.\n",
    "\n",
    "* Calculate and display the total cost of painting the property"
   ]
  },
  {
   "cell_type": "code",
   "execution_count": 58,
   "id": "eece0c16",
   "metadata": {},
   "outputs": [
    {
     "name": "stdout",
     "output_type": "stream",
     "text": [
      "enter number of interior walls: 3\n",
      "enter number of exterior walls: 4\n",
      "surface area of each interior: 23\n",
      "surface area of each interior: 67\n",
      "surface area of each interior: 34\n",
      "surface area of each exterior: 78\n",
      "surface area of each exterior: 90\n",
      "surface area of each exterior: 24\n",
      "surface area of each exterior: 67\n",
      "Cost of Interior Walls:  2232.0 INR\n"
     ]
    }
   ],
   "source": [
    "interior_walls = int(input('enter number of interior walls: '))\n",
    "exterior_walls = int(input('enter number of exterior walls: '))\n",
    "if interior_walls:\n",
    "    int_walls = []\n",
    "    for i in range(interior_walls):\n",
    "        int_walls.append(float(input('surface area of each interior: ')))\n",
    "if exterior_walls:\n",
    "    ext_walls = []\n",
    "    for i in range(exterior_walls):\n",
    "        ext_walls.append(float(input('surface area of each exterior: ')))\n",
    "if(interior_walls<0 or exterior_walls<0):\n",
    "    print('Invalid Input')\n",
    "    exit()\n",
    "if (interior_walls & exterior_walls):\n",
    "    print('Total Estimated Cost: ',sum(int_walls)*18 + sum(ext_walls)*12,'INR')\n",
    "else:\n",
    "    if interior_walls:\n",
    "        print('Cost of Interior Walls: ',sum(int_walls)*18,'INR')\n",
    "    elif exterior_walls:\n",
    "        print('Cost of Exterior Walls: ',sum(ext_walls)*12,'INR')\n",
    "    else:\n",
    "        print('Total Estimated Cost: 0 INR')"
   ]
  },
  {
   "cell_type": "markdown",
   "id": "9b362c40",
   "metadata": {},
   "source": [
    "## 6"
   ]
  },
  {
   "cell_type": "markdown",
   "id": "11a73cfc",
   "metadata": {},
   "source": [
    "* A City Bus is a Ring Route Bus which runs in circular fashion.That is, Bus once starts at the Source Bus Stop, halts at each Bus Stop in its Route and at the end it reaches the Source Bus Stop again.\n",
    "* If there are n  number of Stops and if the bus starts at Bus Stop 1, then after nth Bus Stop, the next stop in the Route will be Bus Stop number 1 always.\n",
    "* If there are n stops, there will be n paths.One path connects two stops. Distances (in meters) for all paths in Ring Route is given in array Path[] as given below:\n",
    "* Path = [800, 600, 750, 900, 1400, 1200, 1100, 1500]\n",
    "* Fare is determined based on the distance covered from source to destination stop as  Distance between Input Source and Destination Stops can be measured by looking at values in array Path[] and fare can be calculated as per following criteria:\n",
    "\n",
    "* If d =1000 metres, then fare=5 INR\n",
    "* (When calculating fare for others, the calculated fare containing any fraction value should be ceiled. For example, for distance 900n when fare initially calculated is 4.5 which must be ceiled to 5)\n",
    "* Path is circular in function. Value at each index indicates distance till current stop from the previous one. And each index position can be mapped with values at same index in BusStops [] array, which is a string array holding abbreviation of names for all stops as-\n",
    "* “THANERAILWAYSTN” = ”TH”, “GAONDEVI” = “GA”, “ICEFACTROY” = “IC”, “HARINIWASCIRCLE” = “HA”, “TEENHATHNAKA” = “TE”, “LUISWADI” = “LU”, “NITINCOMPANYJUNCTION” = “NI”, “CADBURRYJUNCTION” = “CA”\n",
    "\n",
    "* Given, n=8, where n is number of total BusStops.\n",
    "* BusStops = [ “TH”, ”GA”, ”IC”, ”HA”, ”TE”, ”LU”, ”NI”,”CA” ]\n",
    "\n",
    "* Write a code with function getFare(String Source, String Destination) which take Input as source and destination stops(in the format containing first two characters of the Name of the Bus Stop) and calculate and return travel fare."
   ]
  },
  {
   "cell_type": "code",
   "execution_count": 1,
   "id": "f9b48efd",
   "metadata": {},
   "outputs": [
    {
     "name": "stdout",
     "output_type": "stream",
     "text": [
      "Enter Source: GA\n",
      "Enter Destination: LU\n"
     ]
    },
    {
     "data": {
      "text/plain": [
       "25.0"
      ]
     },
     "execution_count": 1,
     "metadata": {},
     "output_type": "execute_result"
    }
   ],
   "source": [
    "import math\n",
    "def get_fare(source,destination):\n",
    "    route = [[\"TH\",\"GA\",\"IC\",\"HA\",\"TE\",\"LU\",\"NI\",\"CA\"],[800,600,750,900,1400,1200,1100,1500]]\n",
    "    fare = 0.0\n",
    "    if not (source in route[0] or destination in route[0]):\n",
    "        print('INVALID INPUT')\n",
    "        exit()\n",
    "    if route[0].index(source) < route[0].index(destination):\n",
    "        for i in range(route[0].index(source),route[0].index(destination)+1):\n",
    "            fare+=route[1][i]\n",
    "    elif route[0].index(destination) < route[0].index(source):\n",
    "        for i in range(route[0].index(source)+1,len(route[0])):\n",
    "            fare+=route[1][i]\n",
    "        for i in range(0,route[0].index(destination)+1):\n",
    "            fare+=route[1][i]\n",
    "    return float(math.ceil(fare*0.005))\n",
    "   \n",
    "    \n",
    "source = str(input('Enter Source: '))\n",
    "destination = str(input('Enter Destination: '))\n",
    "get_fare(source,destination)"
   ]
  },
  {
   "cell_type": "markdown",
   "id": "42aaf021",
   "metadata": {},
   "source": [
    "## 7"
   ]
  },
  {
   "cell_type": "markdown",
   "id": "dc6f9574",
   "metadata": {},
   "source": [
    "* There are total n number of Monkeys sitting on the branches of a huge Tree. As travelers offer Bananas and Peanuts, the Monkeys jump down the Tree. If every Monkey can eat k Bananas and j Peanuts. \n",
    "* If total m number of Bananas and p number of Peanuts are offered by travelers, calculate how many Monkeys remain on the Tree after some of them jumped down to eat.\n",
    "* At a time one Monkeys gets down and finishes eating and go to the other side of the road. The Monkey who climbed down does not climb up again after eating until the other Monkeys finish eating.\n",
    "* Monkey can either eat k Bananas or j Peanuts. If for last Monkey there are less than k Bananas left on the ground or less than j Peanuts left on the ground, only that Monkey can eat Bananas(<k) along with the Peanuts(<j).\n",
    "* Write code to take inputs as n, m, p, k, j and return  the number of Monkeys left on the Tree.\n",
    "    Where, n= Total no of Monkeys\n",
    "        k= Number of eatable Bananas by Single Monkey (Monkey that jumped down last may get less than k Bananas)\n",
    "        j = Number of eatable Peanuts by single Monkey(Monkey that jumped down last may get less than j Peanuts)\n",
    "        m = Total number of Bananas\n",
    "        p  = Total number of Peanuts\n",
    "* Remember that the Monkeys always eat Bananas and Peanuts, so there is no possibility of k and j having a value zero\n",
    "\n",
    "* Input Values    \n",
    "* 20\n",
    "* 2\n",
    "* 3\n",
    "* 12\n",
    "* 12\n",
    "\n",
    "* Output Values\n",
    "* Number of  Monkeys left on the tree:10\n",
    "\n",
    "* Note: Kindly follow  the order of inputs as n,k,j,m,p as given in the above example. And output must include  the same format  as in above example(Number of Monkeys left on the Tree:)\n",
    "* For any wrong input display INVALID INPUT"
   ]
  },
  {
   "cell_type": "code",
   "execution_count": 9,
   "id": "015c768d",
   "metadata": {},
   "outputs": [
    {
     "name": "stdout",
     "output_type": "stream",
     "text": [
      "20\n",
      "2\n",
      "3\n",
      "12\n",
      "12\n",
      "no of monkeys left:  10\n"
     ]
    }
   ],
   "source": [
    "monkeys = int(input())\n",
    "eat_banana= int(input())\n",
    "eat_peanut = int(input())\n",
    "no_of_bananas = int(input())\n",
    "no_of_peanuts = int(input())\n",
    "\n",
    "ate_banana = 0\n",
    "ate_peanut = 0\n",
    "\n",
    "if(monkeys<0 or eat_banana<0 or eat_peanut<0 or no_of_bananas<0 or no_of_peanuts<0):\n",
    "    print('INVALID INPUT')\n",
    "else:\n",
    "    if eat_banana>0:\n",
    "        ate_banana = int(no_of_bananas/eat_banana)\n",
    "    if eat_peanut>0:\n",
    "        ate_peanut = int(no_of_peanuts/eat_peanut)\n",
    "    monkeys=monkeys-ate_banana-ate_peanut\n",
    "    print('no of monkeys left: ',monkeys)"
   ]
  },
  {
   "cell_type": "markdown",
   "id": "8623cc9d",
   "metadata": {},
   "source": [
    "## 8"
   ]
  },
  {
   "cell_type": "markdown",
   "id": "8ed93675",
   "metadata": {},
   "source": [
    "* Chain Marketing Organization has has a scheme for income generation, through which its members generate income for themselves.\n",
    "* The scheme is such that suppose A joins the scheme and makes R and V to join this scheme  then A is Parent Member of R and V who are child Members. \n",
    "* When any member joins the scheme then the parent gets total commission of 10% from each of its child members.\n",
    "* Child members receive commission of 5% respectively. If a Parent member does not have any member joined under him, then he gets commission of 5%.\n",
    "* Take name of the members joining the scheme as input.\n",
    "* Display how many members joined the scheme including parent member.Calculate the Total commission gained by each members in the scheme. The fixed amount for joining the scheme is Rs.5000 on which commission will be generated\n",
    "* SchemeAmount = 5000\n",
    "\n",
    "* Example 1: When there are more than one child members \n",
    "* Input : (Do not give input prompts.Accept values as follows. )\n",
    "* Amit                     //Enter parent Member as this\n",
    "* Y                           //Enter Y if  Parent member has child members otherwise enter N\n",
    "* Rajesh,Virat        //Enter names of child members of Amit in comma separated\n",
    "* Output:(Final Output must be in format given below.)\n",
    "* TOTAL MEMBERS:3\n",
    "* COMISSION DETAILS\n",
    "* Amit: 1000 INR\n",
    "* Rajesh :250 INR\n",
    "* Virat: 250 INR\n",
    "\n",
    "* Example 2: When there is only one child member in the hierarchy\n",
    "* Input :\n",
    "* Amit\n",
    "* Y\n",
    "* Rajesh\n",
    "* Output:\n",
    "* Total Members: 2 \n",
    "* Comission Details\n",
    "* Amit: 500 INR\n",
    "* Rajesh: 250 INR"
   ]
  },
  {
   "cell_type": "code",
   "execution_count": 61,
   "id": "89f9bc75",
   "metadata": {},
   "outputs": [
    {
     "name": "stdout",
     "output_type": "stream",
     "text": [
      "2\n",
      "3\n"
     ]
    }
   ],
   "source": [
    "parent = input()\n",
    "Yes_No = input()\n",
    "if Yes_No == \"N\":\n",
    "    print(\"TOTAL MEMBERS:1\\nCOMMISSION DETAILS\\n{0}: 250 INR\".format(parent))\n",
    "elif Yes_No == \"Y\":\n",
    "    child=list(map(str,input().split(\",\")))\n",
    "    print(\"TOTAL MEMBERS:{}\".format(len(child)+1))\n",
    "    print(\"COMMISSION DETAILS \\n{0}:{1} INR\".format(parent,len(child)*500))\n",
    "    for i in child:\n",
    "        print(\"{0}:250 INR\".format(i))"
   ]
  },
  {
   "cell_type": "markdown",
   "id": "5881c13e",
   "metadata": {},
   "source": [
    "## 9"
   ]
  },
  {
   "cell_type": "raw",
   "id": "61506d88",
   "metadata": {},
   "source": [
    "* FULLY AUTOMATIC VENDING MACHINE – dispenses your cuppa on just press of button. A vending machine can serve range of products as follows:\n",
    "\n",
    " Coffee\n",
    "\n",
    " Espresso Coffee \n",
    " Cappuccino Coffee\n",
    " Latte Coffee\n",
    " Tea\n",
    "\n",
    " Plain Tea\n",
    " Assam Tea\n",
    " Ginger Tea\n",
    " Cardamom Tea\n",
    " Masala Tea\n",
    " Lemon Tea\n",
    " Green Tea\n",
    " Organic Darjeeling Tea\n",
    " Soups \n",
    "\n",
    " Hot and Sour Soup\n",
    " Veg Corn Soup\n",
    " Tomato Soup\n",
    "Spicy Tomato Soup\n",
    "Beverages\n",
    "\n",
    "Hot Chocolate Drink\n",
    "Badam Drink\n",
    "Badam-Pista Drink\n",
    "Write a program to take input for main menu & sub menu and display the name of sub menu selected in the following format (enter the first letter to select main menu):\n",
    "\n",
    "Welcome to CCD \n",
    "\n",
    "Enjoy your\n",
    "\n",
    "Example 1:\n",
    "\n",
    "Input:\n",
    "c\n",
    "1\n",
    "Output\n",
    "Welcome to CCD!\n",
    "Enjoy your Espresso Coffee!\n",
    "Example 2:\n",
    "\n",
    "Input\n",
    "t\n",
    "9\n",
    "Output\n",
    "INVALID OUTPUT!"
   ]
  },
  {
   "cell_type": "code",
   "execution_count": 60,
   "id": "89cc047e",
   "metadata": {},
   "outputs": [
    {
     "name": "stdout",
     "output_type": "stream",
     "text": [
      "Enter Product: c\n",
      "Enter Product Number: 1\n",
      "Welcome to CCD!\n",
      "0\n"
     ]
    },
    {
     "ename": "KeyError",
     "evalue": "0",
     "output_type": "error",
     "traceback": [
      "\u001b[1;31m---------------------------------------------------------------------------\u001b[0m",
      "\u001b[1;31mKeyError\u001b[0m                                  Traceback (most recent call last)",
      "\u001b[1;32m<ipython-input-60-dde8d95b9145>\u001b[0m in \u001b[0;36m<module>\u001b[1;34m\u001b[0m\n\u001b[0;32m     11\u001b[0m     \u001b[0mind\u001b[0m \u001b[1;33m=\u001b[0m \u001b[0mlist\u001b[0m\u001b[1;33m(\u001b[0m\u001b[0mproducts\u001b[0m\u001b[1;33m.\u001b[0m\u001b[0mkeys\u001b[0m\u001b[1;33m(\u001b[0m\u001b[1;33m)\u001b[0m\u001b[1;33m)\u001b[0m\u001b[1;33m.\u001b[0m\u001b[0mindex\u001b[0m\u001b[1;33m(\u001b[0m\u001b[0mpro\u001b[0m\u001b[1;33m)\u001b[0m\u001b[1;33m\u001b[0m\u001b[1;33m\u001b[0m\u001b[0m\n\u001b[0;32m     12\u001b[0m     \u001b[0mprint\u001b[0m\u001b[1;33m(\u001b[0m\u001b[0mind\u001b[0m\u001b[1;33m)\u001b[0m\u001b[1;33m\u001b[0m\u001b[1;33m\u001b[0m\u001b[0m\n\u001b[1;32m---> 13\u001b[1;33m     \u001b[0mprint\u001b[0m\u001b[1;33m(\u001b[0m\u001b[1;34m'Enjoy Your '\u001b[0m\u001b[1;33m,\u001b[0m\u001b[0mproducts\u001b[0m\u001b[1;33m[\u001b[0m\u001b[0mind\u001b[0m\u001b[1;33m]\u001b[0m\u001b[1;33m[\u001b[0m\u001b[0mno\u001b[0m\u001b[1;33m-\u001b[0m\u001b[1;36m1\u001b[0m\u001b[1;33m]\u001b[0m\u001b[1;33m,\u001b[0m\u001b[1;34m'!'\u001b[0m\u001b[1;33m)\u001b[0m\u001b[1;33m\u001b[0m\u001b[1;33m\u001b[0m\u001b[0m\n\u001b[0m",
      "\u001b[1;31mKeyError\u001b[0m: 0"
     ]
    }
   ],
   "source": [
    "products={'c':['Espresso','CoffeeCappuccino','CoffeeLatte Coffee'],\n",
    "         't':['Plain Tea','Assam Tea','Ginger Tea','Cardamom Tea','Masala Tea','Lemon Tea','Green Tea','Organic Darjeeling Tea'],\n",
    "        's':['Hot and Sour Soup','Veg Corn Soup','Tomato Soup','Spicy Tomato Soup'],\n",
    "        'b':['Hot Chocolate Drink','Badam Drink','Badam-Pista Drink']}\n",
    "pro = input('Enter Product: ')\n",
    "no = int(input('Enter Product Number: '))\n",
    "if(no>7):\n",
    "    print('INVALID INPUT')\n",
    "else:\n",
    "    print('Welcome to CCD!')\n",
    "    ind = list(products.keys()).index(pro)\n",
    "    print(ind)\n",
    "    print('Enjoy Your ',products[ind][no-1],'!')"
   ]
  },
  {
   "cell_type": "code",
   "execution_count": 59,
   "id": "1fbabb0b",
   "metadata": {},
   "outputs": [
    {
     "data": {
      "text/plain": [
       "'CoffeeCappuccino'"
      ]
     },
     "execution_count": 59,
     "metadata": {},
     "output_type": "execute_result"
    }
   ],
   "source": [
    "products['c'][1]"
   ]
  },
  {
   "cell_type": "markdown",
   "id": "8486f207",
   "metadata": {},
   "source": [
    "## 10"
   ]
  },
  {
   "cell_type": "raw",
   "id": "b0929d5a",
   "metadata": {},
   "source": [
    "A doctor has a clinic where he serves his patients. The doctor’s consultation fees are different for different groups of patients depending on their age. If the patient’s age is below 17, fees is 200 INR. If the patient’s age is between 17 and 40, fees is 400 INR. If patient’s age is above 40, fees is 300 INR. Write a code to calculate earnings in a day for which one array/List of values representing age of patients visited on that day is passed as input.\n",
    "\n",
    "Note:\n",
    "\n",
    "Age should not be zero or less than zero or above 120\n",
    "Doctor consults a maximum of 20 patients a day\n",
    "Enter age value (press Enter without a value to stop):\n",
    "Example 1:\n",
    "\n",
    "Input\n",
    "20\n",
    "30\n",
    "40\n",
    "50\n",
    "2\n",
    "3\n",
    "14\n",
    "Output\n",
    "Total Income 2000 INR\n",
    "Note: Input and Output Format should be same as given in the above example.\n",
    "For any wrong input display INVALID INPUT\n",
    "\n",
    "Output Format\n",
    "\n",
    "Total Income 2100 INR"
   ]
  },
  {
   "cell_type": "code",
   "execution_count": 29,
   "id": "fff7d888",
   "metadata": {},
   "outputs": [
    {
     "name": "stdout",
     "output_type": "stream",
     "text": [
      "enter age:23\n",
      "enter age:78\n",
      "enter age:54\n",
      "enter age:89\n",
      "enter age:34\n",
      "enter age:67\n",
      "enter age:09\n",
      "age:  [23, 78, 54, 89, 34, 67, 9]\n",
      "Total Income  2200  INR\n"
     ]
    }
   ],
   "source": [
    "age=[]\n",
    "income = 0\n",
    "for i in range(7):\n",
    "    x = int(input('enter age:'))\n",
    "    if (x<0 or x>120):\n",
    "        print('invalid input')\n",
    "    else:\n",
    "        age.append(x)\n",
    "print('age: ',age)\n",
    "    \n",
    "for j in age:\n",
    "    if(j<17):\n",
    "        income+=200\n",
    "    elif(j<40):\n",
    "        income+=400\n",
    "    else:\n",
    "        income+=300\n",
    "        \n",
    "print(\"Total Income\",income,' INR')"
   ]
  },
  {
   "cell_type": "markdown",
   "id": "07fe45d7",
   "metadata": {},
   "source": [
    "## 11"
   ]
  },
  {
   "cell_type": "raw",
   "id": "fbe13009",
   "metadata": {},
   "source": [
    "To check whether a year is leap or not\n",
    "\n",
    "Step 1:\n",
    "\n",
    "We first divide the year by 4.\n",
    "If it is not divisible by 4 then it is not a leap year.\n",
    "If it is divisible by 4 leaving remainder 0 \n",
    "Step 2:\n",
    "\n",
    "We divide the year by 100\n",
    "If it is not divisible by 100 then it is a leap year.\n",
    "If it is divisible by 100 leaving remainder 0\n",
    "Step 3:\n",
    "\n",
    "We divide the year by 400\n",
    "If it is not divisible by 400 then it is a leap year.\n",
    "If it is divisible by 400 leaving remainder 0 \n",
    "Then it is a leap year"
   ]
  },
  {
   "cell_type": "code",
   "execution_count": 40,
   "id": "d067cc9a",
   "metadata": {},
   "outputs": [
    {
     "name": "stdout",
     "output_type": "stream",
     "text": [
      "enter year: 2016\n",
      "2016 is a leap year\n"
     ]
    }
   ],
   "source": [
    "year = int(input('enter year: '))\n",
    "if(year%4==0):\n",
    "    if(year%100==0):\n",
    "        if(year%400==0):\n",
    "            print('{} is a leap year'.format(year))\n",
    "        else:\n",
    "            print('{} is not a leap year'.format(year))\n",
    "    else:\n",
    "        print('{} is a leap year'.format(year))\n",
    "else:\n",
    "    print('{} is not a leap year'.format(year))"
   ]
  },
  {
   "cell_type": "markdown",
   "id": "39aa9cd6",
   "metadata": {},
   "source": [
    "## 12 Prime Num"
   ]
  },
  {
   "cell_type": "markdown",
   "id": "09a5d923",
   "metadata": {},
   "source": [
    "* Write a code to check whether no is prime or not. Condition use function check() to find whether entered no is positive or negative ,if negative then enter the no, And if yes pas no as a parameter to prime() and check whether no is prime or not?\n",
    "\n",
    "* Whether the number is positive or not, if it is negative then print the message “please enter the positive number”\n",
    "* It is positive then call the function prime and check whether the take positive number is prime or not."
   ]
  },
  {
   "cell_type": "code",
   "execution_count": 46,
   "id": "4e6a2747",
   "metadata": {},
   "outputs": [
    {
     "name": "stdout",
     "output_type": "stream",
     "text": [
      "enter number: 67\n",
      "67 is a prime number\n"
     ]
    }
   ],
   "source": [
    "def check(num):\n",
    "    if num >1:\n",
    "        for i in range(2,num):\n",
    "            if num%i==0:\n",
    "                print('{} is not a prime number'.format(num))\n",
    "                break\n",
    "        else:\n",
    "            print('{} is a prime number'.format(num))\n",
    "    \n",
    "    \n",
    "x = int(input('enter number: '))\n",
    "if x<0:\n",
    "    print('enter positive number')\n",
    "else:\n",
    "    check(x)"
   ]
  },
  {
   "cell_type": "markdown",
   "id": "088cd61b",
   "metadata": {},
   "source": [
    "# Number Twist"
   ]
  },
  {
   "cell_type": "markdown",
   "id": "36b40e15",
   "metadata": {},
   "source": [
    "## 13\n",
    "* with twist 1"
   ]
  },
  {
   "cell_type": "code",
   "execution_count": 49,
   "id": "997579fe",
   "metadata": {},
   "outputs": [
    {
     "name": "stdout",
     "output_type": "stream",
     "text": [
      "enter the number: 9\n",
      " 9 term of series is 28\n"
     ]
    }
   ],
   "source": [
    "# Find the 15th term of the series?\n",
    "# 0,0,7,6,14,12,21,18, 28\n",
    "\n",
    "num = int(input('enter the number: '))\n",
    "a=0\n",
    "b=0\n",
    "for i in range(1,num+1):\n",
    "    if(i%2!=0):\n",
    "        a= a+7\n",
    "    else:\n",
    "        b = b+6\n",
    "if(num%2!=0):\n",
    "    print(' {} term of series is {}'.format(num,a-7))\n",
    "else:\n",
    "    print('{} term of series is {}'.format(num,b-6))"
   ]
  },
  {
   "cell_type": "markdown",
   "id": "95bfbb30",
   "metadata": {},
   "source": [
    "## 14\n",
    "* with twist 2"
   ]
  },
  {
   "cell_type": "code",
   "execution_count": 50,
   "id": "be5cd650",
   "metadata": {},
   "outputs": [
    {
     "name": "stdout",
     "output_type": "stream",
     "text": [
      "enter the number: 25\n",
      "\n",
      "25 term of series is 4096.0\t\n"
     ]
    }
   ],
   "source": [
    "# find nth term\n",
    "# 1, 1, 2, 3, 4, 9, 8, 27, 16, 81, 32, 243, 64, 729, 128, 2187 …\n",
    "\n",
    "n = int(input('enter the number: '))\n",
    "\n",
    "a= 1\n",
    "b= 1\n",
    "for i in range(1, n+1):\n",
    "    if(i%2!=0):     \n",
    "        a = a*2\n",
    "    else:      \n",
    "        b = b*3\n",
    "if(n%2!=0):\n",
    "    print('\\n{} term of series is {}\\t'.format(n,a/2))\n",
    "else:\n",
    "    print('\\n{} term of series is {}\\t'.format(n,a/2))"
   ]
  },
  {
   "cell_type": "markdown",
   "id": "32e3b29e",
   "metadata": {},
   "source": [
    "#### 2 series\n",
    "#### 0, 0, 2, 1, 4, 2, 6, 3, 8, 4, 10, 5, 12, 6, 14, 7, 16, 8\n",
    "\n",
    "* find nth term"
   ]
  },
  {
   "cell_type": "code",
   "execution_count": 100,
   "id": "803a52e4",
   "metadata": {},
   "outputs": [
    {
     "ename": "SyntaxError",
     "evalue": "invalid syntax (<ipython-input-100-c438516e1a63>, line 3)",
     "output_type": "error",
     "traceback": [
      "\u001b[1;36m  File \u001b[1;32m\"<ipython-input-100-c438516e1a63>\"\u001b[1;36m, line \u001b[1;32m3\u001b[0m\n\u001b[1;33m    int main() {\u001b[0m\n\u001b[1;37m        ^\u001b[0m\n\u001b[1;31mSyntaxError\u001b[0m\u001b[1;31m:\u001b[0m invalid syntax\n"
     ]
    }
   ],
   "source": [
    "#include<stdio.h>\n",
    "\n",
    "int main() {\n",
    "//code\n",
    "int n;\n",
    "scanf(“%d”, &n);\n",
    "if(n % 2 == 1)\n",
    "{\n",
    "int a = 1;\n",
    "int r = 2;\n",
    "int term_in_series = (n+1)/2;\n",
    "int res = 2 * (term_in_series – 1);\n",
    "printf(“%d “, res);\n",
    "}\n",
    "else\n",
    "{\n",
    "int a = 1;\n",
    "int r = 3;\n",
    "int term_in_series = n/2;\n",
    "\n",
    "int res = term_in_series – 1;\n",
    "printf(“%d “, res);\n",
    "}\n",
    "\n",
    "return 0;\n",
    "}"
   ]
  },
  {
   "cell_type": "markdown",
   "id": "a2c89b75",
   "metadata": {},
   "source": [
    "* 1, 2, 1, 3, 2, 5, 3, 7, 5, 11, 8, 13, 13, 17…..\n",
    "\n",
    "* This series is a mixture of 2 series fail the odd terms in this series form a Fibonacci series and all the even terms are the prime numbers in ascending order\n",
    "\n",
    "* Write a program to find the Nth term in this series"
   ]
  },
  {
   "cell_type": "code",
   "execution_count": null,
   "id": "3d24a4d0",
   "metadata": {},
   "outputs": [],
   "source": [
    "#include<stdio.h>\n",
    "#define MAX 99999\n",
    "\n",
    "void fibonacci(int n)\n",
    "{\n",
    "    /* Variable initialization */\n",
    "    int a = 0, b = 1, next;\n",
    "    //the below code is for fibonacci series till nth position\n",
    "    for (int i = 1; i<=n; i++)\n",
    "    {\n",
    "        next = a + b;\n",
    "        a = b;\n",
    "        b = next;\n",
    "    }\n",
    "\n",
    "    //will print a not b or next as they are stored to calculate next  and next to next term\n",
    "    printf(\"%d\", a);\n",
    "}\n",
    "\n",
    "void prime(int n)\n",
    "{\n",
    "    int i, j, flag, count =0;\n",
    "    //as prime numbers in given question start from 2\n",
    "    for (i=2; i<=MAX; i++)\n",
    "    {\n",
    "        flag = 0;\n",
    "        //to check if divisible apart from 1 & itself\n",
    "        //loop starts from 2 to ignore divisibilty by 1 & ends before the number itself\n",
    "        for (j=2; j<i; j++)\n",
    "        {\n",
    "            if(i%j == 0)\n",
    "            {\n",
    "                //number is not prime\n",
    "                flag = 1;\n",
    "                break;\n",
    "            }\n",
    "        }\n",
    "        //is prime\n",
    "        if (flag == 0){\n",
    "            //if found the nth prime number\n",
    "            if(++count == n)\n",
    "            {\n",
    "                printf(\"%d\", i);\n",
    "                break;\n",
    "            }\n",
    "        }\n",
    "    }\n",
    "}\n",
    "int main(){\n",
    "    int n;\n",
    "    scanf(\"%d\", &n);\n",
    "    \n",
    "    /*if n is odd\n",
    "        nth number in main series will be found at (n/2 + 1) position \n",
    "        in fibonacci sub series\n",
    "    else \n",
    "        if n is even then it will be found in (n/2) position in prime sub series */\n",
    "    \n",
    "    if(n%2 == 1) \n",
    "        fibonacci (n/2 + 1);\n",
    "    else \n",
    "        prime(n/2);\n",
    "    \n",
    "    \n",
    "    return 0;\n",
    "}"
   ]
  },
  {
   "cell_type": "markdown",
   "id": "8e6badd3",
   "metadata": {},
   "source": [
    "#### find the nth term\n",
    "#### 1,1,2,3,4,9,8,27,16,81,32,243,…."
   ]
  },
  {
   "cell_type": "code",
   "execution_count": null,
   "id": "1a00a104",
   "metadata": {},
   "outputs": [],
   "source": [
    "#include <stdio.h>\n",
    "#include <string.h>\n",
    "\n",
    "int three(n)\n",
    "{\n",
    "int x,i;\n",
    "for(i=0;i<100;i++)\n",
    "{\n",
    "x=pow(3,i);\n",
    "if(i==n)\n",
    "printf(\"%d\",x);\n",
    "}\n",
    "}\n",
    "int two(n)\n",
    "{\n",
    "int x,i;\n",
    "for(i=0;i<100;i++)\n",
    "{\n",
    "x=pow(2,i);\n",
    "if(i==n)\n",
    "printf(\"%d\",x);\n",
    "}\n",
    "}\n",
    "int main()\n",
    "{\n",
    "int n;\n",
    "scanf(\"%d\",&n);\n",
    "if(n%2==0)\n",
    "three(n/2);\n",
    "else \n",
    "two(n/2+1);\n",
    "}"
   ]
  },
  {
   "cell_type": "markdown",
   "id": "f6f345cf",
   "metadata": {},
   "source": [
    "## 15\n",
    "* with twist 3"
   ]
  },
  {
   "cell_type": "code",
   "execution_count": 53,
   "id": "4fb3732a",
   "metadata": {},
   "outputs": [
    {
     "name": "stdout",
     "output_type": "stream",
     "text": [
      "enter the number:10\n",
      "4\n"
     ]
    }
   ],
   "source": [
    "# find nth term\n",
    "# 0, 0, 2, 1, 4, 2, 6, 3, 8, 4, 10, 5, 12, 6, 14, 7, 16, 8\n",
    "\n",
    "n = int(input('enter the number:'))\n",
    "\n",
    "a=0\n",
    "b=0\n",
    "\n",
    "for i in range(1,n+1):\n",
    "    if(i%2!=0):\n",
    "        a= a+2\n",
    "    else:\n",
    "        b= b+1\n",
    "\n",
    "if(n%2!=0):\n",
    "    print('{}'.format(a-2))\n",
    "else:\n",
    "    print('{}'.format(b-1))"
   ]
  },
  {
   "cell_type": "markdown",
   "id": "095c102e",
   "metadata": {},
   "source": [
    "## 16"
   ]
  },
  {
   "cell_type": "code",
   "execution_count": 56,
   "id": "093989ba",
   "metadata": {},
   "outputs": [
    {
     "name": "stdout",
     "output_type": "stream",
     "text": [
      "Enter String 1: akshay bunny sandeep\n",
      "%ksh%y#u###SANDEEP\n"
     ]
    }
   ],
   "source": [
    "def vowel_dollar(test_str, K):\n",
    "    vowels = 'AEIOUaeiou'\n",
    "    constants = 'BCDFGHJKLMNPQRSTVWXYZbcdfghjklmnpqrstvwxyz'\n",
    "    s1 = test_str[0]\n",
    "    s2 = test_str[1]\n",
    "    s3 = test_str[2]\n",
    "    for vow in vowels:\n",
    "        s1 = s1.replace(vow, K)\n",
    "    for con in constants:\n",
    "        s2 = s2.replace(con, j)\n",
    "    upper = s3.upper()\n",
    "    print(s1+s2+upper)\n",
    " \n",
    "str1 = tuple(map(str,input('Enter String 1: ').split()))\n",
    "K = \"%\"\n",
    "j = \"#\"\n",
    "vowel_dollar(str1, K)"
   ]
  },
  {
   "cell_type": "markdown",
   "id": "82debb72",
   "metadata": {},
   "source": [
    "## 17"
   ]
  },
  {
   "cell_type": "code",
   "execution_count": 63,
   "id": "cc7f4ff4",
   "metadata": {},
   "outputs": [
    {
     "name": "stdout",
     "output_type": "stream",
     "text": [
      "20\n",
      "20.38\n",
      "addition:  40.379999999999995\n"
     ]
    }
   ],
   "source": [
    "num1 = int(input())\n",
    "num2 = float(input())\n",
    "print('addition: ',num1+num2)"
   ]
  },
  {
   "cell_type": "markdown",
   "id": "f666574d",
   "metadata": {},
   "source": [
    "# 18"
   ]
  },
  {
   "cell_type": "markdown",
   "id": "bdd64135",
   "metadata": {},
   "source": [
    "* Oddly Even Problem Statement\n",
    "* Given a maximum of 100 digit numbers as input, \n",
    "* find the difference between the sum of odd and even position digits"
   ]
  },
  {
   "cell_type": "code",
   "execution_count": 71,
   "id": "8c8e5207",
   "metadata": {},
   "outputs": [
    {
     "name": "stdout",
     "output_type": "stream",
     "text": [
      "9834698765123\n",
      "difference:  1\n"
     ]
    }
   ],
   "source": [
    "num = [int(num) for num in str(input())]\n",
    "even = 0\n",
    "odd = 0\n",
    "for i in range(len(num)):\n",
    "    if i%2 == 0:\n",
    "        even = even + num[i]\n",
    "    else:\n",
    "        odd = odd + num[i]\n",
    "        \n",
    "print('difference: ',abs(odd - even))"
   ]
  },
  {
   "cell_type": "markdown",
   "id": "6bb6c072",
   "metadata": {},
   "source": [
    "# 19"
   ]
  },
  {
   "cell_type": "markdown",
   "id": "bf70940f",
   "metadata": {},
   "source": [
    "* keywords"
   ]
  },
  {
   "cell_type": "code",
   "execution_count": 72,
   "id": "44efbff8",
   "metadata": {},
   "outputs": [
    {
     "name": "stdout",
     "output_type": "stream",
     "text": [
      "enter word: break\n",
      "break is a keyword\n"
     ]
    }
   ],
   "source": [
    "key = ['and', 'as','break','class','continue','def','print','len','elif','if','else','or','pass','in','not in','and']\n",
    "x=str(input('enter word: '))\n",
    "if x in key:\n",
    "    print('{} is a keyword'.format(x))\n",
    "else:\n",
    "    print('{} is not a keyword'.format(x))"
   ]
  },
  {
   "cell_type": "markdown",
   "id": "1d266096",
   "metadata": {},
   "source": [
    "# 20\n",
    "\n",
    "* Given a maximum of four digit to the base 17 (10 – A, 11 – B, 12 – C, 13 – D … 16 – G} as input, output its decimal value.\n",
    "* Case 1\n",
    "* Input – 1A\n",
    "* Expected Output – 27\n",
    "* Case 2\n",
    "* Input – 23GF\n",
    "* Expected Output – 10980"
   ]
  },
  {
   "cell_type": "code",
   "execution_count": 74,
   "id": "6451cdba",
   "metadata": {},
   "outputs": [
    {
     "name": "stdout",
     "output_type": "stream",
     "text": [
      "23GF\n",
      "10980\n"
     ]
    }
   ],
   "source": [
    "num = str(input())\n",
    "print(int(num,17))"
   ]
  },
  {
   "cell_type": "markdown",
   "id": "5f645940",
   "metadata": {},
   "source": [
    "# 21\n",
    "\n",
    "* graph"
   ]
  },
  {
   "cell_type": "code",
   "execution_count": 75,
   "id": "1213c077",
   "metadata": {},
   "outputs": [
    {
     "name": "stdout",
     "output_type": "stream",
     "text": [
      "6\n",
      "90 -20\n"
     ]
    }
   ],
   "source": [
    "n = int(input())\n",
    "c = 'R'\n",
    "dis = 10\n",
    "x,y=0,0\n",
    "for i in range(n):\n",
    "    if c=='R':\n",
    "        x=x+dis\n",
    "        c='U'\n",
    "        dis=dis+10\n",
    "    elif c=='U':\n",
    "        y=y+dis\n",
    "        c='L'\n",
    "        dis=dis+10\n",
    "    elif c=='L':\n",
    "        x=x-dis\n",
    "        c='D'\n",
    "        dis=dis+10\n",
    "    elif c=='D':\n",
    "        y=y-dis\n",
    "        c='A'\n",
    "        dis=dis+10\n",
    "    elif c=='A':\n",
    "        x=x+dis\n",
    "        c='R'\n",
    "        dis=dis+10\n",
    "print(x,y)"
   ]
  },
  {
   "cell_type": "markdown",
   "id": "3b3f9602",
   "metadata": {},
   "source": [
    "### 22  list looping"
   ]
  },
  {
   "cell_type": "code",
   "execution_count": 90,
   "id": "815c66e8",
   "metadata": {},
   "outputs": [
    {
     "name": "stdout",
     "output_type": "stream",
     "text": [
      "Item Number: 103\n",
      "Quantity: 6\n",
      "price 3000.0 INR\n",
      "9 left\n"
     ]
    }
   ],
   "source": [
    "def shop(num,qty):\n",
    "    item_number = [101,102,103,104]\n",
    "    item_name = ['Milk','Cheese','Ghee','Bread']\n",
    "    price = [42,50,500,40]\n",
    "    stock = [10,20,15,16]\n",
    "    x = item_number.index(num)\n",
    "    if stock[x] >qty:\n",
    "        print('price {} INR'.format(float(price[x]*qty)))\n",
    "        print('{} left'.format(stock[x]-qty))\n",
    "    elif stock[x]<qty:\n",
    "        print('NO STOCK')\n",
    "        print('{} left'.format(stock[x]))\n",
    "    elif num not in item_number:\n",
    "        print('INVALID INPUT')\n",
    "    else:\n",
    "        print('invalid')\n",
    "        \n",
    "\n",
    "    \n",
    "    \n",
    "num = int(input('Item Number: '))\n",
    "qty = int(input('Quantity: '))\n",
    "shop(num,qty)"
   ]
  },
  {
   "cell_type": "code",
   "execution_count": null,
   "id": "952191a6",
   "metadata": {},
   "outputs": [],
   "source": []
  },
  {
   "cell_type": "code",
   "execution_count": null,
   "id": "8cff7cfe",
   "metadata": {},
   "outputs": [],
   "source": []
  },
  {
   "cell_type": "code",
   "execution_count": null,
   "id": "0ef88e6e",
   "metadata": {},
   "outputs": [],
   "source": []
  }
 ],
 "metadata": {
  "kernelspec": {
   "display_name": "Python 3",
   "language": "python",
   "name": "python3"
  },
  "language_info": {
   "codemirror_mode": {
    "name": "ipython",
    "version": 3
   },
   "file_extension": ".py",
   "mimetype": "text/x-python",
   "name": "python",
   "nbconvert_exporter": "python",
   "pygments_lexer": "ipython3",
   "version": "3.8.8"
  }
 },
 "nbformat": 4,
 "nbformat_minor": 5
}
