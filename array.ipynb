{
 "cells": [
  {
   "cell_type": "markdown",
   "metadata": {},
   "source": [
    "## 1. Finding the sum of array elements"
   ]
  },
  {
   "cell_type": "code",
   "execution_count": 15,
   "metadata": {},
   "outputs": [
    {
     "name": "stdout",
     "output_type": "stream",
     "text": [
      "2 4 6 8 0\n",
      "sum of array: 20\n"
     ]
    }
   ],
   "source": [
    "def sum1(arr):\n",
    "    result = 0\n",
    "    for x in arr:\n",
    "        result += x\n",
    "    return result\n",
    "\n",
    "arr = map(int,input().split())\n",
    "print('sum of array:',sum1(arr))"
   ]
  },
  {
   "cell_type": "code",
   "execution_count": 16,
   "metadata": {},
   "outputs": [
    {
     "name": "stdout",
     "output_type": "stream",
     "text": [
      "2 4 6 8 0\n",
      "sum of array: 20\n"
     ]
    }
   ],
   "source": [
    "def sum2(arr):\n",
    "    result = sum(arr)\n",
    "    return result\n",
    "\n",
    "arr = map(int,input().split())\n",
    "print('sum of array:',sum2(arr))"
   ]
  },
  {
   "cell_type": "code",
   "execution_count": 17,
   "metadata": {},
   "outputs": [
    {
     "name": "stdout",
     "output_type": "stream",
     "text": [
      "2 4 6\n",
      "12\n"
     ]
    }
   ],
   "source": [
    "print(sum2(map(int,input().split())))"
   ]
  },
  {
   "cell_type": "code",
   "execution_count": 18,
   "metadata": {},
   "outputs": [
    {
     "name": "stdout",
     "output_type": "stream",
     "text": [
      "2 4 6\n",
      "12\n"
     ]
    }
   ],
   "source": [
    "print(sum(map(int,input().split())))"
   ]
  },
  {
   "cell_type": "markdown",
   "metadata": {},
   "source": [
    "## 2. Python program to find a series in an array consisting of characters"
   ]
  },
  {
   "cell_type": "code",
   "execution_count": 21,
   "metadata": {},
   "outputs": [
    {
     "name": "stdout",
     "output_type": "stream",
     "text": [
      "True\n"
     ]
    }
   ],
   "source": [
    "def seri(char):\n",
    "    for i in range(len(char)-2):\n",
    "        if char[i]=='a' and char[i+1]=='b' and char[i+2]=='c':\n",
    "            return True\n",
    "    return False\n",
    "\n",
    "print(seri(['x','a','y','z','a','b','c']))"
   ]
  },
  {
   "cell_type": "markdown",
   "metadata": {},
   "source": [
    "## 3. program to find the occurrence of a particular number in an array"
   ]
  },
  {
   "cell_type": "code",
   "execution_count": 25,
   "metadata": {},
   "outputs": [
    {
     "name": "stdout",
     "output_type": "stream",
     "text": [
      "2 2 2 2 2 2 4 4 5 5 6 78\n",
      "2\n",
      "6\n"
     ]
    }
   ],
   "source": [
    "def occur(array):\n",
    "    count = 0\n",
    "    for n in array:\n",
    "        if n == find:\n",
    "            count = count + 1\n",
    "    return count\n",
    "\n",
    "num = map(int,input().split())\n",
    "find = int(input())\n",
    "print(occur(num))"
   ]
  },
  {
   "cell_type": "code",
   "execution_count": 29,
   "metadata": {},
   "outputs": [
    {
     "name": "stdout",
     "output_type": "stream",
     "text": [
      "enter elements:3 3 3 3 3  5 5 5\n",
      "5\n"
     ]
    }
   ],
   "source": [
    "def occur(array):\n",
    "    count = 0\n",
    "    for num in array:\n",
    "        if num == 3:\n",
    "            count = count + 1\n",
    "    return count\n",
    "\n",
    "print(occur(array=map(int,input('enter elements:').split())))"
   ]
  },
  {
   "cell_type": "markdown",
   "metadata": {},
   "source": [
    "## 4. Python program to find the largest element in an array"
   ]
  },
  {
   "cell_type": "code",
   "execution_count": 18,
   "metadata": {},
   "outputs": [
    {
     "name": "stdout",
     "output_type": "stream",
     "text": [
      "Enter number of elements in an array:5\n",
      "Enter elements of array\n",
      "23\n",
      "45\n",
      "23\n",
      "89\n",
      "65\n",
      "Largest Number in given array: 89\n"
     ]
    }
   ],
   "source": [
    "def find(n,arr):\n",
    "    max_val = arr[0]\n",
    "    for i in range(1,n):\n",
    "        if arr[i]>max_val:\n",
    "            max_val = arr[i]\n",
    "    return max_val\n",
    "        \n",
    "\n",
    "n = int(input('Enter number of elements in an array:'))\n",
    "arr = []\n",
    "print('Enter elements of array')\n",
    "\n",
    "for i in range(n):\n",
    "    numbers = int(input())\n",
    "    arr.append(numbers)\n",
    "\n",
    "max_val = find(n, arr)\n",
    "print('Largest Number in given array:',max_val)"
   ]
  },
  {
   "cell_type": "code",
   "execution_count": 35,
   "metadata": {},
   "outputs": [
    {
     "name": "stdout",
     "output_type": "stream",
     "text": [
      "2 3 4 5 6 7\n"
     ]
    },
    {
     "data": {
      "text/plain": [
       "'7'"
      ]
     },
     "execution_count": 35,
     "metadata": {},
     "output_type": "execute_result"
    }
   ],
   "source": [
    "def largest(elements):\n",
    "    x=max(elements)\n",
    "    return x\n",
    "\n",
    "elements = map(str,input().split())\n",
    "largest(elements)"
   ]
  },
  {
   "cell_type": "code",
   "execution_count": 37,
   "metadata": {},
   "outputs": [
    {
     "name": "stdout",
     "output_type": "stream",
     "text": [
      "2 3 4 5 6 7 8\n",
      "8\n"
     ]
    }
   ],
   "source": [
    "print(max(map(str,input().split())))"
   ]
  },
  {
   "cell_type": "markdown",
   "metadata": {},
   "source": [
    "## 5. program for array rotation"
   ]
  },
  {
   "cell_type": "code",
   "execution_count": 50,
   "metadata": {},
   "outputs": [
    {
     "name": "stdout",
     "output_type": "stream",
     "text": [
      "enter array elements: 1 2 3 4 5 6 7 8 9 0\n",
      "deque(['9', ' ', '0', '1', ' ', '2', ' ', '3', ' ', '4', ' ', '5', ' ', '6', ' ', '7', ' ', '8', ' '])\n"
     ]
    }
   ],
   "source": [
    "from collections import deque\n",
    "array = deque(list(map(str,input('enter array elements: '))))\n",
    "array.rotate(3)\n",
    "print(array)"
   ]
  },
  {
   "cell_type": "code",
   "execution_count": 45,
   "metadata": {},
   "outputs": [
    {
     "name": "stdout",
     "output_type": "stream",
     "text": [
      "deque([7, 8, 2, 3, 4, 5, 6])\n"
     ]
    }
   ],
   "source": [
    "array = deque([2,3,4,5,6,7,8])\n",
    "array.rotate(2)\n",
    "print(array)"
   ]
  },
  {
   "cell_type": "code",
   "execution_count": null,
   "metadata": {},
   "outputs": [],
   "source": []
  },
  {
   "cell_type": "code",
   "execution_count": null,
   "metadata": {},
   "outputs": [],
   "source": [
    "## 6. "
   ]
  },
  {
   "cell_type": "markdown",
   "metadata": {},
   "source": [
    "## 7. Find the union and intersection of two arrays"
   ]
  },
  {
   "cell_type": "code",
   "execution_count": 53,
   "metadata": {},
   "outputs": [
    {
     "name": "stdout",
     "output_type": "stream",
     "text": [
      "Enter Elements of 1st List:15 9 10 56 23 78 5 4 9\n",
      "Enter Elements of 2nd List:9 4 5 36 47 26 10 45 87\n",
      "union: {4, 5, 36, 9, 10, 45, 78, 15, 47, 87, 23, 56, 26}\n",
      "Intersection: {9, 10, 4, 5}\n",
      "Difference: {56, 23, 78, 15}\n",
      "Symmetric Difference: {36, 45, 78, 47, 15, 23, 87, 56, 26}\n"
     ]
    }
   ],
   "source": [
    "a = list(map(int,input('Enter Elements of 1st List:').split()))\n",
    "b = list(map(int,input('Enter Elements of 2nd List:').split())) \n",
    "\n",
    "print('union:',set(a) | set(b))\n",
    "print('Intersection:',set(a) & set(b))\n",
    "\n",
    "print('Difference:',set(a) - set(b))\n",
    "print('Symmetric Difference:',set(a) ^ set(b))"
   ]
  },
  {
   "cell_type": "markdown",
   "metadata": {},
   "source": [
    "## 8. program to create matrix in Python"
   ]
  },
  {
   "cell_type": "code",
   "execution_count": 56,
   "metadata": {},
   "outputs": [
    {
     "name": "stdout",
     "output_type": "stream",
     "text": [
      "4 6 8 3 5 7 \n",
      "6 9 2 9 3 8 \n",
      "2 5 2 6 9 8 \n",
      "4 5 6 5 1 3 \n"
     ]
    }
   ],
   "source": [
    "mat = [[4,6,8,3,5,7],[6,9,2,9,3,8],[2,5,2,6,9,8],[4,5,6,5,1,3]]\n",
    "\n",
    "for i in range(4):\n",
    "    for j in range(6):\n",
    "        print(mat[i][j],end=' ')\n",
    "    print()"
   ]
  },
  {
   "cell_type": "markdown",
   "metadata": {},
   "source": [
    "## 9. program to create matrix using numpy"
   ]
  },
  {
   "cell_type": "code",
   "execution_count": 78,
   "metadata": {},
   "outputs": [
    {
     "name": "stdout",
     "output_type": "stream",
     "text": [
      "Method 1:\n",
      " [[16 21 37]\n",
      " [74 45 46]\n",
      " [17 88 29]]\n",
      "Method 2:\n",
      " [[17 21 32]\n",
      " [43 59 62]\n",
      " [70 82 91]]\n"
     ]
    }
   ],
   "source": [
    "import numpy as np\n",
    "mat1 = np.array([[16,21,37],[74,45,46],[17,88,29]])\n",
    "print('Method 1:\\n',mat1)\n",
    "mat2 = np.matrix(\"17,21,32;43,59,62;70,82,91\")\n",
    "print('Method 2:\\n',mat2)"
   ]
  },
  {
   "cell_type": "markdown",
   "metadata": {},
   "source": [
    "## 10. program for matrix operations"
   ]
  },
  {
   "cell_type": "code",
   "execution_count": 85,
   "metadata": {},
   "outputs": [
    {
     "name": "stdout",
     "output_type": "stream",
     "text": [
      "Addition:\n",
      " [[ 33  42  69]\n",
      " [117 104 108]\n",
      " [ 87 170 120]]\n",
      "Subtraction:\n",
      " [[ -1   0   5]\n",
      " [ 31 -14 -16]\n",
      " [-53   6 -62]]\n",
      "Division:\n",
      " [[0.94117647 1.         1.15625   ]\n",
      " [1.72093023 0.76271186 0.74193548]\n",
      " [0.24285714 1.07317073 0.31868132]]\n",
      "Multiplication:\n",
      " [[3765 4609 5181]\n",
      " [6413 7981 9344]\n",
      " [6103 7927 8639]]\n",
      "Product:\n",
      " [[3765 4609 5181]\n",
      " [6413 7981 9344]\n",
      " [6103 7927 8639]]\n",
      "Square Root:\n",
      " [[4.         4.58257569 6.08276253]\n",
      " [8.60232527 6.70820393 6.78232998]\n",
      " [4.12310563 9.38083152 5.38516481]]\n",
      "Square Root:\n",
      " [[4.12310563 4.58257569 5.65685425]\n",
      " [6.55743852 7.68114575 7.87400787]\n",
      " [8.36660027 9.05538514 9.53939201]]\n"
     ]
    }
   ],
   "source": [
    "print('Addition:\\n',mat1+mat2)\n",
    "print('Subtraction:\\n',mat1-mat2)\n",
    "print('Division:\\n',mat1/mat2)\n",
    "print('Multiplication:\\n',mat1*mat2)\n",
    "print('Product:\\n',np.dot(mat1,mat2))\n",
    "print('Square Root:\\n',np.sqrt(mat1))\n",
    "print('Square Root:\\n',np.sqrt(mat2))"
   ]
  },
  {
   "cell_type": "markdown",
   "metadata": {},
   "source": [
    "## 11. program to get matrix as input from user and print it in different type"
   ]
  },
  {
   "cell_type": "code",
   "execution_count": 63,
   "metadata": {},
   "outputs": [
    {
     "name": "stdout",
     "output_type": "stream",
     "text": [
      "Enter Number of Rows:2\n",
      "Enter Number of Columns:3\n",
      "1\n",
      "2\n",
      "3\n",
      "4\n",
      "5\n",
      "6\n",
      "Method 1\n",
      "1 2 3 \n",
      "4 5 6 \n",
      "Method 2\n",
      "1 2 3 \n",
      "4 5 6 \n",
      "Method 3\n",
      "((1, 2, 3), (4, 5, 6))\n"
     ]
    }
   ],
   "source": [
    "t=()\n",
    "rows = int(input('Enter Number of Rows:'))\n",
    "cols = int(input('Enter Number of Columns:'))\n",
    "\n",
    "for i in range(rows):\n",
    "    c=()\n",
    "    for j in range(cols):\n",
    "        v = int(input())\n",
    "        c += (v,)\n",
    "    t +=(c,)\n",
    "\n",
    "print('Method 1')\n",
    "for i in range(len(t)):\n",
    "    for j in range(len(t[i])):\n",
    "        print(t[i][j],end=' ')\n",
    "    print()\n",
    "\n",
    "print('Method 2')\n",
    "for x in t:\n",
    "    for y in x:\n",
    "        print(y,end=' ')\n",
    "    print()\n",
    "\n",
    "print('Method 3')\n",
    "print(t)"
   ]
  },
  {
   "cell_type": "markdown",
   "metadata": {},
   "source": [
    "## 12. program to add two matrices and print the resulting matrix"
   ]
  },
  {
   "cell_type": "code",
   "execution_count": 36,
   "metadata": {},
   "outputs": [
    {
     "name": "stdout",
     "output_type": "stream",
     "text": [
      "Enter Number of Rows:2\n",
      "Enter Number of Columns:2\n",
      "Matrix 1\n",
      "Enter Value 0.0:12\n",
      "Enter Value 0.1:34\n",
      "Enter Value 1.0:56\n",
      "Enter Value 1.1:78\n",
      "Matrix 2\n",
      "Enter Value 0.0:90\n",
      "Enter Value 0.1:34\n",
      "Enter Value 1.0:56\n",
      "Enter Value 1.1:78\n",
      "((12, 34), (56, 78))\n",
      "((90, 34), (56, 78))\n",
      "Addition ((102, 68), (112, 156))\n"
     ]
    }
   ],
   "source": [
    "mat1 = ()\n",
    "mat2 = ()\n",
    "add = ()\n",
    "rows = int(input('Enter Number of Rows:'))\n",
    "cols = int(input('Enter Number of Columns:'))\n",
    "\n",
    "print('Matrix 1')\n",
    "for i in range(rows):\n",
    "    c=()\n",
    "    for j in range(cols):\n",
    "        v = int(input('Enter Value {}.{}:'.format(i,j)))\n",
    "        c += (v,)\n",
    "    mat1 += (c,)\n",
    "\n",
    "print('Matrix 2')\n",
    "for i in range(rows):\n",
    "    c=()\n",
    "    for j in range(cols):\n",
    "        v = int(input('Enter Value {}.{}:'.format(i,j)))\n",
    "        c += (v,)\n",
    "    mat2 += (c,)\n",
    "\n",
    "for i in range(rows):\n",
    "    c=()\n",
    "    for j in range(cols):\n",
    "        v=mat1[i][j]+mat2[i][j]\n",
    "        c += (v,)\n",
    "    add += (c,)\n",
    "\n",
    "print(mat1)\n",
    "print(mat2)\n",
    "print('Addition',add)"
   ]
  },
  {
   "cell_type": "markdown",
   "metadata": {},
   "source": [
    "## 13. program to filter matrix based on a condition"
   ]
  },
  {
   "cell_type": "code",
   "execution_count": 43,
   "metadata": {},
   "outputs": [
    {
     "name": "stdout",
     "output_type": "stream",
     "text": [
      "Students (('Akshay', 21), ('Bunny', 30), ('GB', 25), ('Gore', 35))\n",
      "Students Selected: (('Bunny', 30), ('GB', 25), ('Gore', 35))\n"
     ]
    }
   ],
   "source": [
    "students = (('Akshay',21),('Bunny',30),('GB',25),('Gore',35))\n",
    "print('Students',students)\n",
    "\n",
    "select=()\n",
    "for s in students:\n",
    "    if (s[1] >= 25):\n",
    "        select += (s,)\n",
    "\n",
    "print('Students Selected:',select)   "
   ]
  },
  {
   "cell_type": "markdown",
   "metadata": {},
   "source": [
    "## 14. program to illustrate the working of lambda functions on array"
   ]
  },
  {
   "cell_type": "code",
   "execution_count": 64,
   "metadata": {},
   "outputs": [
    {
     "name": "stdout",
     "output_type": "stream",
     "text": [
      "['First', 'First', 'First', 'Fail', 'Fail', 'First', 'Fail', 'Fail']\n"
     ]
    }
   ],
   "source": [
    "marks = [80,76,97,45,67,78,35,32]\n",
    "stud = lambda:['First' if (per>=75 and per<=100) else 'Second' if (per>=50 and per <=49) else 'Fail' for per in marks]\n",
    "print(stud())"
   ]
  },
  {
   "cell_type": "markdown",
   "metadata": {},
   "source": [
    "## 15. program to apply lambda functions on array"
   ]
  },
  {
   "cell_type": "code",
   "execution_count": 9,
   "metadata": {},
   "outputs": [
    {
     "name": "stdout",
     "output_type": "stream",
     "text": [
      "Temp. in Celsius: [12, 45, 6, 78, 5, 26, 67]\n",
      "Temperature in Fahrenheit: [53.6, 113.0, 42.8, 172.4, 41.0, 78.80000000000001, 152.60000000000002]\n"
     ]
    }
   ],
   "source": [
    "#using function\n",
    "def cel_to_feh(c):\n",
    "    f=9/5*c+32\n",
    "    return f\n",
    "\n",
    "celsius = [12,45,6,78,5,26,67]\n",
    "print('Temp. in Celsius:',celsius)\n",
    "\n",
    "fah_temp=[]\n",
    "for t in celsius:\n",
    "    x = cel_to_feh(t)\n",
    "    fah_temp.append(x)\n",
    "print('Temperature in Fahrenheit:',fah_temp)"
   ]
  },
  {
   "cell_type": "code",
   "execution_count": 10,
   "metadata": {},
   "outputs": [
    {
     "name": "stdout",
     "output_type": "stream",
     "text": [
      "Temp. in Celsius: [12, 45, 6, 78, 5, 26, 67]\n",
      "Temperature in Fahrenheit: [53.6, 113.0, 42.8, 172.4, 41.0, 78.80000000000001, 152.60000000000002]\n"
     ]
    }
   ],
   "source": [
    "#using lambda\n",
    "celsius = [12,45,6,78,5,26,67]\n",
    "print('Temp. in Celsius:',celsius)\n",
    "\n",
    "fah_temp = list(map(lambda c:9/5*c+32, celsius))\n",
    "print('Temperature in Fahrenheit:',fah_temp)"
   ]
  },
  {
   "cell_type": "code",
   "execution_count": null,
   "metadata": {},
   "outputs": [],
   "source": []
  }
 ],
 "metadata": {
  "kernelspec": {
   "display_name": "Python 3",
   "language": "python",
   "name": "python3"
  },
  "language_info": {
   "codemirror_mode": {
    "name": "ipython",
    "version": 3
   },
   "file_extension": ".py",
   "mimetype": "text/x-python",
   "name": "python",
   "nbconvert_exporter": "python",
   "pygments_lexer": "ipython3",
   "version": "3.8.8"
  }
 },
 "nbformat": 4,
 "nbformat_minor": 4
}
