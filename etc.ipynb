{
 "cells": [
  {
   "cell_type": "markdown",
   "metadata": {},
   "source": [
    "## How to print spaces in Python?"
   ]
  },
  {
   "cell_type": "code",
   "execution_count": 6,
   "metadata": {},
   "outputs": [
    {
     "name": "stdout",
     "output_type": "stream",
     "text": [
      " \n",
      " \n",
      "akshay jadhav\n",
      "akshay         jadhav\n"
     ]
    }
   ],
   "source": [
    "print(' ')\n",
    "print(\" \")\n",
    "print('akshay jadhav')\n",
    "print('akshay         jadhav')"
   ]
  },
  {
   "cell_type": "code",
   "execution_count": 8,
   "metadata": {},
   "outputs": [
    {
     "name": "stdout",
     "output_type": "stream",
     "text": [
      "x: 10\n",
      "y:  20\n"
     ]
    }
   ],
   "source": [
    "x = 10\n",
    "y = 20\n",
    "print('x:',x)\n",
    "print('y: ',y)"
   ]
  },
  {
   "cell_type": "code",
   "execution_count": 13,
   "metadata": {},
   "outputs": [
    {
     "name": "stdout",
     "output_type": "stream",
     "text": [
      "akshay jadhav\n",
      "akshay   jadhav\n",
      "akshay    jadhav\n",
      "akshay     jadhav\n",
      "akshay ## jadhav\n",
      "akshay ### jadhav\n"
     ]
    }
   ],
   "source": [
    "s = ' '\n",
    "t = '#'\n",
    "print('akshay','jadhav')\n",
    "print('akshay',s,'jadhav')\n",
    "print('akshay',s*2,'jadhav')\n",
    "print('akshay',s*3,'jadhav')\n",
    "print('akshay',t*2,'jadhav')\n",
    "print('akshay',t*3,'jadhav')"
   ]
  },
  {
   "cell_type": "markdown",
   "metadata": {},
   "source": [
    "## Printing different messages by using different variations of print() method."
   ]
  },
  {
   "cell_type": "code",
   "execution_count": 25,
   "metadata": {},
   "outputs": [
    {
     "name": "stdout",
     "output_type": "stream",
     "text": [
      "akshay\n",
      "jadhav\n",
      "\n",
      "bunny#bankar\n",
      "python program#"
     ]
    }
   ],
   "source": [
    "print('akshay')\n",
    "print('jadhav')\n",
    "print()\n",
    "print('bunny','bankar',sep='#')\n",
    "print('python','program',end='#')"
   ]
  },
  {
   "cell_type": "markdown",
   "metadata": {},
   "source": [
    "## Printing different values (integer, float, string, Boolean)"
   ]
  },
  {
   "cell_type": "code",
   "execution_count": 39,
   "metadata": {},
   "outputs": [
    {
     "name": "stdout",
     "output_type": "stream",
     "text": [
      "11\n",
      "12.56\n",
      "aj\n",
      "True\n",
      "\n",
      "33\n",
      "aaaacccc\n",
      "integer\t: 10\n",
      "float\t: 12.455\n",
      "str\t: akshay\n",
      "boolean\t: False\n"
     ]
    }
   ],
   "source": [
    "a=10\n",
    "b=12.455\n",
    "c='akshay'\n",
    "d=False\n",
    "print(11)\n",
    "print(12.56)\n",
    "print('aj')\n",
    "print(True)\n",
    "print()\n",
    "print(11+22)\n",
    "print('aaaa'+'cccc')\n",
    "print('integer\\t:',a)\n",
    "print('float\\t:',b)\n",
    "print('str\\t:',str(c))\n",
    "print('boolean\\t:',str(d))"
   ]
  },
  {
   "cell_type": "markdown",
   "metadata": {},
   "source": [
    "## Declare different types of variables, print their values, types and Ids"
   ]
  },
  {
   "cell_type": "code",
   "execution_count": 49,
   "metadata": {},
   "outputs": [
    {
     "name": "stdout",
     "output_type": "stream",
     "text": [
      "<class 'int'> 140727669762176 12\n",
      "<class 'float'> 2965537651504 34.54\n",
      "<class 'str'> 2965537583856 akshay\n",
      "<class 'complex'> 2965537649168 (12+23j)\n",
      "<class 'bool'> 140727669479248 True\n",
      "<class 'list'> 2965538388672 [23, 565, 3, 2, 5]\n",
      "<class 'tuple'> 2965538383808 (34, 765, 3, 24)\n",
      "<class 'dict'> 2965538348800 {'name': 'akshay'}\n"
     ]
    }
   ],
   "source": [
    "a = 12\n",
    "b = 34.54\n",
    "c = 'akshay'\n",
    "d = 12+23j\n",
    "e = True\n",
    "lst = [23,565,3,2,5]\n",
    "tpl = (34,765,3,24)\n",
    "dct = {'name':'akshay'}\n",
    "    \n",
    "print(type(a),id(a),a)\n",
    "print(type(b),id(b),b)\n",
    "print(type(c),id(c),c)\n",
    "print(type(d),id(d),d)\n",
    "print(type(e),id(e),e)\n",
    "print(type(lst),id(lst),lst)\n",
    "print(type(tpl),id(tpl),tpl)\n",
    "print(type(dct),id(dct),dct)"
   ]
  },
  {
   "cell_type": "code",
   "execution_count": null,
   "metadata": {},
   "outputs": [],
   "source": []
  }
 ],
 "metadata": {
  "kernelspec": {
   "display_name": "Python 3",
   "language": "python",
   "name": "python3"
  },
  "language_info": {
   "codemirror_mode": {
    "name": "ipython",
    "version": 3
   },
   "file_extension": ".py",
   "mimetype": "text/x-python",
   "name": "python",
   "nbconvert_exporter": "python",
   "pygments_lexer": "ipython3",
   "version": "3.8.8"
  }
 },
 "nbformat": 4,
 "nbformat_minor": 4
}
